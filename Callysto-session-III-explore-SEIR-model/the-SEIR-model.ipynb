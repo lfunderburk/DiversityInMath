{
 "cells": [
  {
   "cell_type": "markdown",
   "metadata": {
    "slideshow": {
     "slide_type": "skip"
    }
   },
   "source": [
    "![Callysto.ca Banner](https://github.com/callysto/curriculum-notebooks/blob/master/callysto-notebook-banner-top.jpg?raw=true)"
   ]
  },
  {
   "cell_type": "markdown",
   "metadata": {
    "slideshow": {
     "slide_type": "skip"
    }
   },
   "source": [
    "## To use this slideshow:\n",
    "- Run All, using the menu item: Kernel/Restart & Run All\n",
    "- Return to this top cell\n",
    "- click on \"Slideshow\" menu item above, that looks like this:\n",
    "![](images/SlideIcon.png)"
   ]
  },
  {
   "cell_type": "markdown",
   "metadata": {
    "slideshow": {
     "slide_type": "slide"
    }
   },
   "source": [
    "## Mathematical Modeling\n",
    "\n",
    "### August 5, 2020 with Laura G Funderburk  "
   ]
  },
  {
   "cell_type": "markdown",
   "metadata": {
    "slideshow": {
     "slide_type": "slide"
    }
   },
   "source": [
    "## Session III\n",
    "\n",
    "In this session, we’ll explore our implementation of the “<b>S</b>usceptible, <b>E</b>xposed, <b>I</b>nfected and <b>R</b>ecovered” (<b>SEIR</b>) model used in epidemiology, the study of how disease occurs in populations. \n"
   ]
  },
  {
   "cell_type": "markdown",
   "metadata": {
    "slideshow": {
     "slide_type": "slide"
    }
   },
   "source": [
    "## Recap: What is a Mathematical Model\n",
    "\n",
    "A mathematical model is a description of a system using <b>mathematical concepts</b> and <b>mathematical language</b>.\n",
    "\n",
    "You can think of a math model as a tool to help us describe what we believe about the workings of phenomena in the world. \n",
    "\n",
    "<b>We use the language of mathematics to express our beliefs.</b>\n",
    "\n",
    "<b>We use mathematics (theoretical and numerical analysis) to evaluate the model, and get insights about the original phenomenon.</b>"
   ]
  },
  {
   "cell_type": "markdown",
   "metadata": {
    "slideshow": {
     "slide_type": "slide"
    }
   },
   "source": [
    "### Building Models: Our Road Map for The Course\n",
    "\n",
    "|Topic | Session |\n",
    "|-|-|\n",
    "|<font color=#000000><b>Choose what phenomenon you want to model|1|</b></font>\n",
    "|<font color=#000000><b>What assumptions are you making about the phenomenon|1|</b></font>   \n",
    "|<font color=#000000><b>Use a flow diagram to help you determine the structure of your model|1|</b></font>\n",
    "|<font color=#000000><b>Choose equations|2|</b></font>\n",
    "|<font color=#000000><b>Implement equations using Python|2|</b></font>\n",
    "|<font color=#000000><b>Solve equations|2|</b></font>\n",
    "|<font color=#1f78b4><b>Study the behaviour of the model|3|</b></font>\n",
    "|<font color=#1f78b4><b>Test the model|3|</b></font>\n",
    "|<font color=#1f78b4><b>Use the model|3|</b></font>\n"
   ]
  },
  {
   "cell_type": "markdown",
   "metadata": {
    "slideshow": {
     "slide_type": "slide"
    }
   },
   "source": [
    "## Recap: Our assumptions\n",
    "\n",
    "1. Mode of transmission of the disease is from person to person is through contact(\"contact transmission\")\n",
    "    \n",
    "2. Infected people can either be infectious or not infectious, and recover. People can die at any of the different stages. The death rate is the same across the different stages. \n",
    "\n",
    "3. Population is not-constant (that is, people are born and die as time goes by).\n",
    "\n",
    "4. A person in the population is either one of:\n",
    "    - <b>S</b>usceptible, i.e. not infected but not yet exposed, \n",
    "    - <b>E</b>xposed to the infection, i.e. exposed to the virus, but not yet infectious, \n",
    "    - <b>I</b>nfectious, and \n",
    "    - <b>R</b>ecovered from the infection. "
   ]
  },
  {
   "cell_type": "markdown",
   "metadata": {
    "slideshow": {
     "slide_type": "slide"
    }
   },
   "source": [
    "## Recap: Flow diagram\n",
    "\n",
    "How does a person move from one stage into another? In other words, how does a person go from susceptible to exposed, to infected, to recovered? \n",
    "\n",
    "$\\Delta$: birth rate, $\\delta$: death rate (assumed constant)\n",
    "\n",
    "$\\beta$: rate of infection (non-infectious yet)\n",
    "\n",
    "$\\epsilon$: rate of infection (infectious)\n",
    "\n",
    "$\\gamma$: rate of recovery\n",
    "\n",
    "$$\\stackrel{\\Delta } {\\longrightarrow} \\text{S} \\stackrel{\\beta\\frac{S}{N} I}{\\longrightarrow} \\text{E} \\stackrel{\\epsilon E}{\\longrightarrow} \\text{I}  \\stackrel{\\gamma I}{\\longrightarrow} \\text{R}$$\n",
    "$$\\hspace{1.1cm} \\downarrow \\delta\\hspace{0.5cm} \\downarrow \\delta\\hspace{0.5cm} \\downarrow \\delta \\hspace{0.5cm} \\downarrow \\delta$$\n",
    "\n"
   ]
  },
  {
   "cell_type": "markdown",
   "metadata": {
    "slideshow": {
     "slide_type": "slide"
    }
   },
   "source": [
    "## Our system of equations\n",
    "\n",
    "We can then express our model using differential equations\n",
    "\n",
    "$$\\frac{dS}{dt} = \\delta - \\beta \\frac{S}{N}I - \\delta S$$\n",
    "\n",
    "$$\\frac{dE}{dt} = \\beta \\frac{S}{N}I - \\epsilon E - \\delta E$$\n",
    "\n",
    "$$\\frac{dI}{dt} = \\epsilon E - \\gamma I - \\delta I\\$$\n",
    "\n",
    "$$\\frac{dR}{dt} = \\gamma I - \\delta R$$\n",
    "\n",
    "\n"
   ]
  },
  {
   "cell_type": "markdown",
   "metadata": {
    "slideshow": {
     "slide_type": "slide"
    }
   },
   "source": [
    "## Initial conditions\n",
    "\n",
    "If $N(t)$ denotes the total population, then at a given time $t$,\n",
    "\n",
    "$$N(t) = S(t) + E(t) + I(t) + R(t).$$\n",
    "\n",
    "In particular, if for $t = 0$ (also known as \"day 1\") we set  \n",
    "\n",
    "$$S(0) = S_0, E(0) = E_0, I(0) = I_0, R(0) = R_0, $$\n",
    "\n",
    "then the population at day 1 is:\n",
    "\n",
    "$$N(0) = S_0 + E_0 + I_0 + R_0.$$\n",
    "\n",
    "$S_0, E_0, I_0, R_0$ are known as \"initial conditions\" - we will need them to solve our system."
   ]
  },
  {
   "cell_type": "code",
   "execution_count": null,
   "metadata": {
    "slideshow": {
     "slide_type": "skip"
    }
   },
   "outputs": [],
   "source": [
    "import numpy as np\n",
    "from scipy.integrate import odeint\n",
    "import matplotlib.pyplot as plt\n",
    "from ipywidgets import interact, interact_manual, widgets, Layout, VBox, HBox, Button\n",
    "from IPython.display import display, Javascript, Markdown, HTML, clear_output\n",
    "import pandas as pd\n",
    "import plotly.express as px \n",
    "import plotly.graph_objects as go\n",
    "\n",
    "# A grid of time points (in days)\n",
    "t = np.linspace(0, 750, 750)\n",
    "\n",
    "\n",
    "# The SIR model differential equations.\n",
    "def deriv(y, t, N,Delta, delta, beta, epsilon, gamma):\n",
    "    S, E, I, R = y\n",
    "    dS = delta - beta*S*I/N-delta*S\n",
    "    dE = beta*S*I-epsilon*E - delta*E\n",
    "    dI = epsilon*E - gamma*I- delta*I\n",
    "    dR = gamma*I - delta*R\n",
    "    \n",
    "    return dS,dE, dI, dR\n",
    "\n",
    "\n",
    "    \n",
    "def plot_infections(Delta, delta, beta, epsilon, gamma):\n",
    "    \n",
    "    # Initial number of infected and recovered individuals, I0 and R0.\n",
    "    S0, E0,I0, R0 = 1000, 10,0,0\n",
    "    # Total population, N.\n",
    "    N = S0 + E0 + I0 + R0\n",
    "    # Initial conditions vector\n",
    "    y0 = S0,E0, I0, R0\n",
    "    # Integrate the SIR equations over the time grid, t.\n",
    "    ret = odeint(deriv, y0, t, args=(N, Delta, delta, beta, epsilon, gamma))\n",
    "    S, E,I, R = ret.T\n",
    "\n",
    "    seir_simulation = pd.DataFrame({\"Susceptible\":S,\"Exposed\":E,\"Infected\":I,\"Recovered\":R,\"Time (days)\":t})\n",
    "\n",
    "    fig = go.Figure()\n",
    "    \n",
    "    fig.add_trace(go.Scatter(x=seir_simulation[\"Time (days)\"], y=seir_simulation[\"Susceptible\"],\n",
    "                        mode='lines',\n",
    "                        name='Susceptible'))\n",
    "    \n",
    "    fig.add_trace(go.Scatter(x=seir_simulation[\"Time (days)\"], y=seir_simulation[\"Exposed\"],\n",
    "                        mode='lines',\n",
    "                        name='Exposed'))\n",
    "    \n",
    "    fig.add_trace(go.Scatter(x=seir_simulation[\"Time (days)\"], y=seir_simulation[\"Infected\"],\n",
    "                    mode='lines',\n",
    "                    name='Infected'))\n",
    "    \n",
    "    fig.add_trace(go.Scatter(x=seir_simulation[\"Time (days)\"], y=seir_simulation[\"Recovered\"],\n",
    "                        mode='lines', name='Recovered'))\n",
    "    \n",
    "    \n",
    "    fig.show()\n"
   ]
  },
  {
   "cell_type": "code",
   "execution_count": null,
   "metadata": {
    "slideshow": {
     "slide_type": "slide"
    }
   },
   "outputs": [],
   "source": [
    "# Our code\n",
    "# A grid of time points (in days)\n",
    "t = np.linspace(0, 750, 750)\n",
    "\n",
    "\n",
    "# The SIR model differential equations.\n",
    "def deriv(y, t, N,Delta, delta, beta, epsilon, gamma):\n",
    "    S, E, I, R = y\n",
    "    dS = delta - beta*S*I/N-delta*S\n",
    "    dE = beta*S/N*I-epsilon*E - delta*E\n",
    "    dI = epsilon*E - gamma*I- delta*I\n",
    "    dR = gamma*I - delta*R\n",
    "    \n",
    "    return dS,dE, dI, dR"
   ]
  },
  {
   "cell_type": "markdown",
   "metadata": {
    "slideshow": {
     "slide_type": "slide"
    }
   },
   "source": [
    "## Let's get some real data\n",
    "\n",
    "Using COVID-19 Open Data [1], we are going to compare our model to the number of daily cases reported in Canada. \n",
    "\n",
    "[1] COVID-19 Data Repository by the Center for Systems Science and Engineering (CSSE) at Johns Hopkins University, https://github.com/CSSEGISandData/COVID-19"
   ]
  },
  {
   "cell_type": "code",
   "execution_count": null,
   "metadata": {
    "slideshow": {
     "slide_type": "skip"
    }
   },
   "outputs": [],
   "source": [
    "import requests as r\n",
    "import pandas as pd\n",
    "API_response_confirmed = r.get(\"https://covid19api.herokuapp.com/confirmed\")\n",
    "data = API_response_confirmed.json() # Check the JSON Response Content documentation below\n",
    "confirmed_df = pd.json_normalize(data,record_path=[\"locations\"])\n",
    "\n",
    "# Flattening the data \n",
    "flat_confirmed = pd.json_normalize(data=data['locations'])\n",
    "flat_confirmed.set_index('country', inplace=True)\n",
    "\n",
    "# Define a function to drop the history.prefix\n",
    "# Create function drop_prefix\n",
    "def drop_prefix(self, prefix):\n",
    "    self.columns = self.columns.str.lstrip(prefix)\n",
    "    return self\n",
    "\n",
    "# Call function\n",
    "pd.core.frame.DataFrame.drop_prefix = drop_prefix\n",
    "\n",
    "# Define function which removes history. prefix, and orders the column dates in ascending order\n",
    "def order_dates(flat_df):\n",
    "\n",
    "    # Drop prefix\n",
    "    flat_df.drop_prefix('history.')\n",
    "    flat_df.drop_prefix(\"coordinates.\")\n",
    "    # Isolate dates columns\n",
    "    flat_df.iloc[:,6:].columns = pd.to_datetime(flat_df.iloc[:,6:].columns)\n",
    "    # Transform to datetim format\n",
    "    sub = flat_df.iloc[:,6:]\n",
    "    sub.columns = pd.to_datetime(sub.columns)\n",
    "    # Sort\n",
    "    sub2 = sub.reindex(sorted(sub.columns), axis=1)\n",
    "    sub3 = flat_df.reindex(sorted(flat_df.columns),axis=1).iloc[:,-5:]\n",
    "    # Concatenate\n",
    "    final = pd.concat([sub2,sub3], axis=1, sort=False)\n",
    "    return final"
   ]
  },
  {
   "cell_type": "code",
   "execution_count": null,
   "metadata": {
    "slideshow": {
     "slide_type": "skip"
    }
   },
   "outputs": [],
   "source": [
    "# Apply function\n",
    "final_confirmed = order_dates(flat_confirmed)\n",
    "\n",
    "country = \"Canada\"\n",
    "by_prov = final_confirmed[final_confirmed.index==country].set_index(\"province\").T.iloc[:-4,]\n",
    "by_prov[\"TotalDailyCase\"] = by_prov.sum(axis=1)"
   ]
  },
  {
   "cell_type": "code",
   "execution_count": null,
   "metadata": {
    "slideshow": {
     "slide_type": "slide"
    }
   },
   "outputs": [],
   "source": [
    "# This variable contains data on COVID 19 daily cases\n",
    "by_prov"
   ]
  },
  {
   "cell_type": "code",
   "execution_count": null,
   "metadata": {
    "slideshow": {
     "slide_type": "slide"
    }
   },
   "outputs": [],
   "source": [
    "# Initial number of infected and recovered individuals, I0 and R0.\n",
    "S0, E0,I0, R0 = 37000000,0,100,0\n",
    "# Total population, N.\n",
    "N = S0 + E0 + I0 + R0\n",
    "# Initial conditions vector\n",
    "y0 = S0,E0, I0, R0\n",
    "# Integrate the SEIR equations over the time grid, t.\n",
    "Delta = 0.01\n",
    "delta =0.01\n",
    "beta = 0.08\n",
    "epsilon = 13\n",
    "gamma = 0.01\n",
    "numerator = Delta*beta*epsilon\n",
    "denominator = delta*(delta + gamma)*(delta + epsilon)\n",
    "print(\"R_0 is equal to\", numerator/denominator)\n",
    "ret = odeint(deriv, y0, t, args=(N, Delta, delta, beta, epsilon, gamma))\n",
    "S, E,I, R = ret.T\n",
    "# Let's add a date\n",
    "seir_simulation = pd.DataFrame({\"Susceptible\":S,\"Exposed\":E,\"Infectious\":I,\"Recovered\":R,\"Time (days)\":t})\n",
    "seir_simulation['date'] = pd.date_range(start='01/01/2020', periods=len(seir_simulation), freq='D')"
   ]
  },
  {
   "cell_type": "code",
   "execution_count": null,
   "metadata": {
    "slideshow": {
     "slide_type": "slide"
    }
   },
   "outputs": [],
   "source": [
    "non_cumulative_cases = by_prov.diff(axis=0)\n",
    "layout = go.Layout(\n",
    "    title= ('Daily number of confirmed infection cases for ' + str(country)),\n",
    "    yaxis=dict(title='Daily Number of  Confirmed Infection Cases',\\\n",
    "               titlefont=dict(color='blue'), tickfont=dict(color='blue')),showlegend=False)\n",
    "trace3 = go.Scatter(x = non_cumulative_cases.index,y=non_cumulative_cases[\"TotalDailyCase\"])\n",
    "trace2 = go.Scatter(x = seir_simulation[\"date\"],y=seir_simulation[\"Infectious\"]);\n",
    "fig = go.Figure(data=[trace3,trace2],layout=layout)\n",
    "\n",
    "fig.show()"
   ]
  },
  {
   "cell_type": "markdown",
   "metadata": {
    "slideshow": {
     "slide_type": "slide"
    }
   },
   "source": [
    "## Session III Take Away\n",
    "\n",
    "In this session we learned that:\n",
    "\n",
    "1. "
   ]
  },
  {
   "cell_type": "markdown",
   "metadata": {
    "slideshow": {
     "slide_type": "skip"
    }
   },
   "source": [
    "## Further reading \n",
    "\n",
    "https://people.maths.bris.ac.uk/~madjl/course_text.pdf\n",
    "\n",
    "## Icons \n",
    "\n",
    "<a href=\"https://iconscout.com/icons/thunder\" target=\"_blank\">Thunder Icon</a> by <a href=\"https://iconscout.com/contributors/dinosoftlabs\">Dinosoft Lab</a> on <a href=\"https://iconscout.com\">Iconscout</a>\n",
    "\n",
    "\n",
    "Girl Thinking by <a href=\"https://www.clipart.email/\">clipart.email</a>"
   ]
  },
  {
   "cell_type": "markdown",
   "metadata": {
    "slideshow": {
     "slide_type": "skip"
    }
   },
   "source": [
    "[![Callysto.ca License](https://github.com/callysto/curriculum-notebooks/blob/master/callysto-notebook-banner-bottom.jpg?raw=true)](https://github.com/callysto/curriculum-notebooks/blob/master/LICENSE.md)"
   ]
  }
 ],
 "metadata": {
  "celltoolbar": "Slideshow",
  "kernelspec": {
   "display_name": "Python 3",
   "language": "python",
   "name": "python3"
  },
  "language_info": {
   "codemirror_mode": {
    "name": "ipython",
    "version": 3
   },
   "file_extension": ".py",
   "mimetype": "text/x-python",
   "name": "python",
   "nbconvert_exporter": "python",
   "pygments_lexer": "ipython3",
   "version": "3.8.4"
  },
  "rise": {
   "autolaunch": false,
   "backimage": "Bgnd0.jpg"
  }
 },
 "nbformat": 4,
 "nbformat_minor": 4
}
