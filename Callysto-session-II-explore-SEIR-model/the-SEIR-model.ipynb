{
 "cells": [
  {
   "cell_type": "markdown",
   "metadata": {
    "slideshow": {
     "slide_type": "skip"
    }
   },
   "source": [
    "## To use this slideshow:\n",
    "- Run All, using the menu item: Kernel/Restart & Run All\n",
    "- Return to this top cell\n",
    "- click on \"Slideshow\" menu item above, that looks like this:\n",
    "![](images/SlideIcon.png)"
   ]
  },
  {
   "cell_type": "markdown",
   "metadata": {
    "slideshow": {
     "slide_type": "slide"
    }
   },
   "source": [
    "## Mathematical Modeling\n",
    "\n",
    "### August 4, 2020 with Laura G Funderburk  "
   ]
  },
  {
   "cell_type": "markdown",
   "metadata": {
    "slideshow": {
     "slide_type": "slide"
    }
   },
   "source": [
    "## Session II\n",
    "\n",
    "In this session, we’ll implement the “<b>S</b>usceptible, <b>E</b>xposed, <b>I</b>nfected and <b>R</b>ecovered” (<b>SEIR</b>) model used in epidemiology, the study of how disease occurs in populations. \n"
   ]
  },
  {
   "cell_type": "markdown",
   "metadata": {
    "slideshow": {
     "slide_type": "slide"
    }
   },
   "source": [
    "## Recap: What is a Mathematical Model\n",
    "\n",
    "A mathematical model is a description of a system using <b>mathematical concepts</b> and <b>mathematical language</b>.\n",
    "\n",
    "You can think of a math model as a tool to help us describe what we believe about the workings of phenomena in the world. \n",
    "\n",
    "<b>We use the language of mathematics to express our beliefs.</b>\n",
    "\n",
    "<b>We use mathematics (theoretical and numerical analysis) to evaluate the model, and get insights about the original phenomenon.</b>"
   ]
  },
  {
   "cell_type": "markdown",
   "metadata": {
    "slideshow": {
     "slide_type": "slide"
    }
   },
   "source": [
    "### Building Models: Our Road Map for The Course\n",
    "\n",
    "|Topic | Session |\n",
    "|-|-|\n",
    "|<font color=#000000><b>Choose what phenomenon you want to model|1|</b></font>\n",
    "|<font color=#000000><b>What assumptions are you making about the phenomenon|1|</b></font>   \n",
    "|<font color=#000000><b>Use a flow diagram to help you determine the structure of your model|1|</b></font>\n",
    "|<font color=#1f78b4><b>Choose equations|2|</b></font>\n",
    "|<font color=#1f78b4><b>Compare against data related to the phenomenon your are modelling|2|</b></font>\n",
    "|<font color=#1f78b4><b>Solve equations|2|</b></font>\n",
    "|<font color=#000000><b>Study the behaviour of the model|3|</b></font>\n",
    "|<font color=#000000><b>Test the model|3|</b></font>\n",
    "|<font color=#000000><b>Use the model|3|</b></font>\n"
   ]
  },
  {
   "cell_type": "markdown",
   "metadata": {
    "slideshow": {
     "slide_type": "slide"
    }
   },
   "source": [
    "## Recap: Our assumptions\n",
    "\n",
    "1. Mode of transmission is either \n",
    "\n",
    "    a. <b>Primary:</b> the disease is passed from person to person \n",
    "    (\"contact transmission\")\n",
    "\n",
    "    b. <b>Indirect:</b> the disease is passed via <em>fomites</em> (\"non-contact transmission\")\n",
    "    - for example clothes, utensils, and furniture that an infected person coughs on or touches after having touched their nose or mouth \n",
    "    \n",
    "    \n",
    "2. People can be exposed to the pathogen, get infected, and then recover. We assume people who recovered become susceptible to get reinfected after recovering. \n",
    "    "
   ]
  },
  {
   "cell_type": "markdown",
   "metadata": {
    "slideshow": {
     "slide_type": "slide"
    }
   },
   "source": [
    "## Our assumptions (continued)\n",
    "\n",
    "3. There are two ways a population can behave: lockdown (reduced and removal of regular activities) vs non-lockdown (all activies are done normally). \n",
    "\n",
    "4. Population is not-constant (that is, people are born and die as time goes by).\n",
    "\n",
    "5. A person in the population is either one of:\n",
    "    - susceptible, i.e. not infected but not yet exposed, \n",
    "    - exposed to the infection, i.e. is in contact with the virus, but not yet infected, \n",
    "    - infected, and \n",
    "    - recovered from the infection. "
   ]
  },
  {
   "cell_type": "markdown",
   "metadata": {
    "slideshow": {
     "slide_type": "slide"
    }
   },
   "source": [
    "## Recap: Flow diagram\n",
    "\n",
    "How does a person move from one stage into another? In other words, how does a person go from susceptible to exposed, to infected, to recovered? \n",
    "\n",
    "We can express this change as a rate - a number quantifying how many people moved from one stage to another. Given we do not know what this number is, we will use mathematical symbols to represent this change:\n",
    "\n",
    "- $\\beta, \\mu_0$ for the contact and non-contact transmission, respectively, \n",
    "- $\\kappa$ for exposed to infected,\n",
    "- $\\gamma$ for infected to recovered,\n",
    "- $\\mu _1$ death rate (infected people who died), and\n",
    "- $\\mu _2$ for recovered to susceptible."
   ]
  },
  {
   "cell_type": "markdown",
   "metadata": {
    "slideshow": {
     "slide_type": "slide"
    }
   },
   "source": [
    "## Flow diagram\n",
    "\n",
    "We can then add the following to our diagram:\n",
    "\n",
    "$$\\text{Susceptible} \\stackrel{\\beta, \\mu_0}{\\longrightarrow} \\text{Exposed}    $$\n",
    "$$\\mu_2 \\uparrow \\hspace{2cm} \\downarrow \\kappa$$\n",
    "$$\\text{Recovered}  \\stackrel{\\gamma}{\\longleftarrow}  \\text{Infected}$$\n",
    "$$\\hspace{3.1cm} \\downarrow \\mu_1$$"
   ]
  },
  {
   "cell_type": "markdown",
   "metadata": {},
   "source": [
    "$$N(t) = S(t) + E(t) + I(t) + R(t)$$\n",
    "\n",
    "$$S(t) = −\\beta S(t) \\frac{I(t)}{N(t)} + \\mu_2 R(t) \\mu_0 E(t)$$\n",
    "\n",
    "$$E(t) = \\beta S(t) \\frac{I(t)}{N(t)}- \\kappa E(t)+\\mu_0 E$$\n",
    "\n",
    "$$I(t) = \\kappa E(t) − (\\gamma + \\mu_1) I(t)$$\n",
    "\n",
    "$$R(t) = \\gamma I(t) − \\mu_2 R(t)$$"
   ]
  },
  {
   "cell_type": "code",
   "execution_count": null,
   "metadata": {},
   "outputs": [],
   "source": [
    "import numpy as np\n",
    "import scipy as sp\n",
    "from scipy.integrate import odeint \n",
    "import matplotlib.pyplot as plt\n",
    "\n",
    "# beta := [0.12, 0.5]\n",
    "# kappa: = [0.2, 0.3]\n",
    "# gamma:= [0.25, 0.35]\n",
    "# mu1 :=[0.025, 0.05]\n",
    "# mu2: = [0, 0.005]\n",
    "# μ0: = [0, 0.1]\n",
    "\n",
    "def ode_model(R0_in=2, De_in=4, Di_in=8):\n",
    "    def model(z_flat, t):\n",
    "        z = np.reshape(z_flat, newshape = (4, M))\n",
    "        s, e, i, r = [z[0, :], z[1, :], z[2, :], z[3, :]]\n",
    "        n = np.sum(z, axis = 0)\n",
    "        R0 = R0_in #g_params['R0']\n",
    "        De = De_in #g_params['De']\n",
    "        Di = Di_in #g_params['Di']\n",
    "\n",
    "        ds = -s/n*(R0/Di*i) + (n/n0)*(np.matmul(np.transpose(L), s/n) - s/n*np.matmul(L, np.ones(M)))\n",
    "        de = s/n*(R0/Di*i) - e/De + (n/n0)*(np.matmul(np.transpose(L), e/n) - e/n*np.matmul(L, np.ones(M)))\n",
    "        di = e/De - i/Di + (n/n0)*(np.matmul(np.transpose(L), i/n) - i/n*np.matmul(L, np.ones(M)))\n",
    "        dr = i/Di + (n/n0)*(np.matmul(np.transpose(L), r/n) - r/n*np.matmul(L, np.ones(M)))\n",
    "        dz = np.array([ds, de, di, dr])\n",
    "        return np.reshape(dz, newshape = (1, 4*M))[0]\n",
    "    \n",
    "    # consider M countries \n",
    "    M = 3\n",
    "    n0 = 100\n",
    "    c_params = [{''} for i in range(0, M)] # country-specific parameters\n",
    "    #g_params = {'R0': 2, 'De': 4, 'Di': 8} # global model parameters\n",
    "    L = np.zeros((M, M)) # matrix of travel rates; L(i, j) = rate of travel from country i --> country j\n",
    "\n",
    "    s0 = np.array([100, ]*M)\n",
    "    e0 = np.zeros(M)\n",
    "    i0 = np.zeros(M)\n",
    "    i0[0] = 1\n",
    "    r0 = np.zeros(M)\n",
    "    z0 = np.array([s0, e0, i0, r0]) # z = [s e i r]\n",
    "\n",
    "    n = 2000\n",
    "    t = np.linspace(0, 500, n)\n",
    "    # solve ODE\n",
    "\n",
    "    S = np.zeros((n, M))\n",
    "    E = np.zeros((n, M))\n",
    "    I = np.zeros((n, M))\n",
    "    R = np.zeros((n, M))\n",
    "\n",
    "    S[0] = z0[0, :]\n",
    "    E[0] = z0[1, :]\n",
    "    I[0] = z0[2, :]\n",
    "    R[0] = z0[3, :]\n",
    "        \n",
    "    z0 = np.reshape(np.array([s0, e0, i0, r0]), newshape = (1, 4*M))[0] # z = [s e i r]\n",
    "\n",
    "    for i in range(1,n):\n",
    "        # span for next time step\n",
    "        tspan = [t[i-1],t[i]]\n",
    "        # solve for next step\n",
    "        z = odeint(model,z0,tspan)[1]\n",
    "        z = np.reshape(z, newshape = (4, M))\n",
    "        \n",
    "        S[i] = z[0, :]\n",
    "        E[i] = z[1, :]\n",
    "        I[i] = z[2, :]\n",
    "        R[i] = z[3, :]\n",
    "\n",
    "        z0 = np.reshape(z, newshape = (1, 4*M))[0]\n",
    "\n",
    "    return t, S, I, E"
   ]
  },
  {
   "cell_type": "markdown",
   "metadata": {
    "slideshow": {
     "slide_type": "slide"
    }
   },
   "source": [
    "## Session II Take Away\n",
    "\n",
    "In this session we learned that:\n",
    "\n",
    "1. "
   ]
  },
  {
   "cell_type": "markdown",
   "metadata": {
    "slideshow": {
     "slide_type": "skip"
    }
   },
   "source": [
    "## Further reading \n",
    "\n",
    "https://people.maths.bris.ac.uk/~madjl/course_text.pdf\n",
    "\n",
    "## Icons \n",
    "\n",
    "<a href=\"https://iconscout.com/icons/thunder\" target=\"_blank\">Thunder Icon</a> by <a href=\"https://iconscout.com/contributors/dinosoftlabs\">Dinosoft Lab</a> on <a href=\"https://iconscout.com\">Iconscout</a>\n",
    "\n",
    "\n",
    "Girl Thinking by <a href=\"https://www.clipart.email/\">clipart.email</a>"
   ]
  }
 ],
 "metadata": {
  "celltoolbar": "Slideshow",
  "kernelspec": {
   "display_name": "Python 3",
   "language": "python",
   "name": "python3"
  },
  "language_info": {
   "codemirror_mode": {
    "name": "ipython",
    "version": 3
   },
   "file_extension": ".py",
   "mimetype": "text/x-python",
   "name": "python",
   "nbconvert_exporter": "python",
   "pygments_lexer": "ipython3",
   "version": "3.7.4"
  },
  "rise": {
   "autolaunch": false,
   "backimage": "Bgnd0.jpg"
  }
 },
 "nbformat": 4,
 "nbformat_minor": 4
}
