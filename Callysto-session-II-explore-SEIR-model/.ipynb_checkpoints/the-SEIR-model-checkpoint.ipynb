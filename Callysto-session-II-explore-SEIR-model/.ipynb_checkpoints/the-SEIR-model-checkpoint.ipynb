{
 "cells": [
  {
   "cell_type": "markdown",
   "metadata": {
    "slideshow": {
     "slide_type": "skip"
    }
   },
   "source": [
    "## To use this slideshow:\n",
    "- Run All, using the menu item: Kernel/Restart & Run All\n",
    "- Return to this top cell\n",
    "- click on \"Slideshow\" menu item above, that looks like this:\n",
    "![](images/SlideIcon.png)"
   ]
  },
  {
   "cell_type": "markdown",
   "metadata": {
    "slideshow": {
     "slide_type": "slide"
    }
   },
   "source": [
    "## Mathematical Modeling\n",
    "\n",
    "### August 4, 2020 with Laura G Funderburk  "
   ]
  },
  {
   "cell_type": "markdown",
   "metadata": {
    "slideshow": {
     "slide_type": "slide"
    }
   },
   "source": [
    "## Session I\n",
    "\n",
    "In this session, we’ll learn about mathematical models:\n",
    "\n",
    "- what they are, \n",
    "\n",
    "- when they are used, \n",
    "\n",
    "- and how they can be useful. \n",
    "\n",
    "We’ll learn an example of mathematical modeling using the “<b>S</b>usceptible, <b>E</b>xposed, <b>I</b>nfected and <b>R</b>ecovered” (<b>SEIR</b>) model used in epidemiology, the study of how disease occurs in populations. \n",
    "\n"
   ]
  },
  {
   "cell_type": "markdown",
   "metadata": {
    "slideshow": {
     "slide_type": "slide"
    }
   },
   "source": [
    "## Overview: Mathematical Models\n",
    "\n",
    "1. What are they?\n",
    "2. Why are they useful?\n",
    "3. An example of a mathematical: disease in population\n",
    "4. The Susceptible, Exposed, Infected, Removed (SEIR model)"
   ]
  },
  {
   "cell_type": "markdown",
   "metadata": {
    "slideshow": {
     "slide_type": "slide"
    }
   },
   "source": [
    "## What is a Mathematical Model\n",
    "\n",
    "A mathematical model is a description of a system using <b>mathematical concepts</b> and <b>mathematical language</b>.\n",
    "\n",
    "You can think of a math model as a tool to help us describe what we believe about the workings of phenomena in the world. \n",
    "\n",
    "<b>We use the language of mathematics to express our beliefs.</b>\n",
    "\n",
    "<b>We use mathematics (theoretical and numerical analysis) to evaluate the model, and get insights about the original phenomenon.</b>"
   ]
  },
  {
   "cell_type": "markdown",
   "metadata": {
    "slideshow": {
     "slide_type": "slide"
    }
   },
   "source": [
    "## What is Mathematical Modeling\n",
    "\n",
    "Mathematical modeling is the process of translating problems from an application area, for example:\n",
    "\n",
    "* Physics\n",
    "* Chemistry\n",
    "* Biology\n",
    "\n",
    "into a mathematical formula (or set of formulas). "
   ]
  },
  {
   "cell_type": "markdown",
   "metadata": {
    "slideshow": {
     "slide_type": "slide"
    }
   },
   "source": [
    "## Why Mathematical Models?\n",
    "\n",
    "Building mathematical models can be useful in helping us: \n",
    "\n",
    "1. Developing scientific understanding\n",
    "    - expressing knowledge of a system or phenomenon\n",
    "    - displaying what we know\n",
    "    - discovering what we do not know\n",
    "2. Testing the effect of changes in a system\n",
    "3. Helping us make (better) decisions"
   ]
  },
  {
   "cell_type": "markdown",
   "metadata": {
    "slideshow": {
     "slide_type": "slide"
    }
   },
   "source": [
    "<center><b>Remember: </b></center> \n",
    "\n",
    "Since a mathematical model expresses our beliefs about the world, it is naturally going to be limited. \n",
    "\n",
    "When gaining insights via a model, remember the insight is on the model, not necessarily the real life phenomenon. \n",
    "\n",
    "We will explore in later sessions how to test our model to measure how much we can \"trust\" it. "
   ]
  },
  {
   "cell_type": "markdown",
   "metadata": {
    "slideshow": {
     "slide_type": "slide"
    }
   },
   "source": [
    "### Building Models: Our Road Map for The Course\n",
    "\n",
    "|Topic | Session |\n",
    "|-|-|\n",
    "|<font color=#1f78b4><b>Choose what phenomenon you want to model|1|</b></font>\n",
    "|<font color=#1f78b4><b>What assumptions are you making about the phenomenon|1|</b></font>   \n",
    "|<font color=#1f78b4><b>Use a flow diagram to help you determine the structure of your model|1|</b></font>\n",
    "|<font color=#000000><b>Choose equations|2|</b></font>\n",
    "|<font color=#000000><b>Compare against data related to the phenomenon your are modelling|2|</b></font>\n",
    "|<font color=#000000><b>Solve equations|2|</b></font>\n",
    "|<font color=#000000><b>Study the behaviour of the model|3|</b></font>\n",
    "|<font color=#000000><b>Test the model|3|</b></font>\n",
    "|<font color=#000000><b>Use the model|3|</b></font>\n"
   ]
  },
  {
   "cell_type": "markdown",
   "metadata": {
    "slideshow": {
     "slide_type": "slide"
    }
   },
   "source": [
    "<center><img src='./images/thunder.png',style=\"width: 400px;\"></center>\n",
    "\n",
    "<center><h2>Step 1: Choosing a system or phenomenon</h2></center>\n",
    "    \n",
    "<a href=\"https://iconscout.com/icons/thunder\" target=\"_blank\">Thunder Icon</a> by <a href=\"https://iconscout.com/contributors/dinosoftlabs\">Dinosoft Lab</a> on <a href=\"https://iconscout.com\">Iconscout</a>"
   ]
  },
  {
   "cell_type": "markdown",
   "metadata": {
    "slideshow": {
     "slide_type": "slide"
    }
   },
   "source": [
    "## Our phenomenon of interest: modelling number of people affected by COVID-19\n",
    "\n",
    "Let's turn now to an event that made headlines in 2020: the COVID-19 pandemic. \n",
    "\n",
    "COVID-19 is a viral infection caused by a pathogen called SARS-CoV-2. \n",
    "\n",
    "<center><img src='./images/23311_lores.jpg',style=\"width: 600px;\"></center>\n",
    "\n",
    "<center>SARS-CoV-2 virus. Illustration by CDC/ Alissa Eckert, MSMI; Dan Higgins, MAMS (2020) </center>\n"
   ]
  },
  {
   "cell_type": "markdown",
   "metadata": {
    "slideshow": {
     "slide_type": "slide"
    }
   },
   "source": [
    "## Our phenomenon of interest: modelling number of people affected by COVID-19\n",
    "\n",
    "We want to understand how fast the disease is spreading between people:\n",
    "\n",
    "- if one person gets infected, how many other new infections will result from that initial infection?\n",
    "\n",
    "- how long does it take for an infected person to heal?\n",
    "\n",
    "- how fatal is the disease: how many deaths should we expect? \n",
    "\n",
    "- can we visualize multiple scenarios involving the disease?"
   ]
  },
  {
   "cell_type": "markdown",
   "metadata": {
    "slideshow": {
     "slide_type": "slide"
    }
   },
   "source": [
    "<center><img src='./images/question.png',style=\"width: 400px;\"></center>\n",
    "\n",
    "\n",
    "<center><h2>Step 2: What assumptions are we making about the phenomenon?</h2></center>\n",
    "\n",
    "Icon made by FreePik from www.flaticon.com\n"
   ]
  },
  {
   "cell_type": "markdown",
   "metadata": {
    "slideshow": {
     "slide_type": "slide"
    }
   },
   "source": [
    "## Our assumptions\n",
    "\n",
    "1. Mode of transmission is either \n",
    "\n",
    "    a. <b>Primary:</b> the disease is passed from person to person \n",
    "    (\"contact transmission\")\n",
    "\n",
    "    b. <b>Indirect:</b> the disease is passed via <em>fomites</em> (\"non-contact transmission\")\n",
    "    - for example clothes, utensils, and furniture that an infected person coughs on or touches after having touched their nose or mouth \n",
    "    \n",
    "    \n",
    "2. People can be exposed to the pathogen, get infected, and then recover. We assume people who recovered become susceptible to get reinfected after recovering. \n",
    "    "
   ]
  },
  {
   "cell_type": "markdown",
   "metadata": {
    "slideshow": {
     "slide_type": "slide"
    }
   },
   "source": [
    "## Our assumptions (continued)\n",
    "\n",
    "3. There are two ways a population can behave: lockdown (reduced and removal of regular activities) vs non-lockdown (all activies are done normally). \n",
    "\n",
    "4. Population is not-constant (that is, people are born and die as time goes by).\n",
    "\n",
    "5. A person in the population is either one of:\n",
    "    - susceptible, i.e. not infected but not yet exposed, \n",
    "    - exposed to the infection, i.e. is in contact with the virus, but not yet infected, \n",
    "    - infected, and \n",
    "    - recovered from the infection. "
   ]
  },
  {
   "cell_type": "markdown",
   "metadata": {
    "slideshow": {
     "slide_type": "slide"
    }
   },
   "source": [
    "<center><img src='./images/flow_chart.svg',style=\"width: 600px;\"></center>\n",
    "\n",
    "<center><h2>Step 3: Creating a flow diagram for our model</h2></center>\n",
    "    \n",
    "Flow Chart from <a href=\"https://datavizcatalogue.com/methods/flow_chart.html\" target=\"_blank\">The Data Visualisation Catalogue</a>\n",
    "\n"
   ]
  },
  {
   "cell_type": "markdown",
   "metadata": {
    "slideshow": {
     "slide_type": "slide"
    }
   },
   "source": [
    "## Flow diagram\n",
    "\n",
    "Before we can jump into using mathematical equiations, we will take an intermediate step and create a flow diagram. This is a pictorial aid in helping us represent our model. \n",
    "\n",
    "Since we are assuming people move from one state into another, component diagrams would be useful in helping us visualize the spread of disease. \n",
    "\n",
    "We can think of each of the components as stages a person goes through. We identify four stages:\n",
    "\n",
    " - Susceptible\n",
    " - Exposed\n",
    " - Infected\n",
    " - Recovered\n",
    "\n",
    "\n",
    "\n"
   ]
  },
  {
   "cell_type": "markdown",
   "metadata": {
    "slideshow": {
     "slide_type": "slide"
    }
   },
   "source": [
    "## Flow diagram\n",
    "\n",
    "We note that once a person goes from being susceptible to being exposed, they cannot go back. The same follows for going from exposed to infected. Since we also assumed that once a person recovers, they become susceptible to get re-infected, we can them express a person moving from one stage to another as follows:\n",
    "\n",
    "\n",
    "$$\\text{Susceptible} \\longrightarrow \\text{Exposed}    $$\n",
    "$$\\uparrow \\hspace{2cm} \\downarrow$$\n",
    "$$\\text{Recovered}  \\longrightarrow  \\text{Infected}$$"
   ]
  },
  {
   "cell_type": "markdown",
   "metadata": {
    "slideshow": {
     "slide_type": "slide"
    }
   },
   "source": [
    "## Flow diagram\n",
    "\n",
    "How does a person move from one stage into another? In other words, how does a person go from susceptible to exposed, to infected, to recovered? \n",
    "\n",
    "We can express this change as a rate - a number quantifying how many people moved from one stage to another. Given we do not know what this number is, we will use mathematical symbols to represent this change:\n",
    "\n",
    "- $\\beta, \\mu_0$ for the contact and non-contact transmission, respectively, \n",
    "- $\\kappa$ for exposed to infected,\n",
    "- $\\gamma$ for infected to recovered,\n",
    "- $\\mu _1$ death rate (infected people who died), and\n",
    "- $\\mu _2$ for recovered to susceptible."
   ]
  },
  {
   "cell_type": "markdown",
   "metadata": {
    "slideshow": {
     "slide_type": "slide"
    }
   },
   "source": [
    "## Flow diagram\n",
    "\n",
    "We can then add the following to our diagram:\n",
    "\n",
    "$$\\text{Susceptible} \\stackrel{\\beta, \\mu_0}{\\longrightarrow} \\text{Exposed}    $$\n",
    "$$\\mu_2 \\uparrow \\hspace{2cm} \\downarrow \\kappa$$\n",
    "$$\\text{Recovered}  \\stackrel{\\gamma}{\\longleftarrow}  \\text{Infected}$$\n",
    "$$\\hspace{3.1cm} \\downarrow \\mu_1$$"
   ]
  },
  {
   "cell_type": "markdown",
   "metadata": {
    "slideshow": {
     "slide_type": "slide"
    }
   },
   "source": [
    "## Session I Take Away\n",
    "\n",
    "In this session we learned that:\n",
    "\n",
    "1. Mathematical models are descriptions about phenomena in the world that use the mathematical language.\n",
    "\n",
    "2. Mathematical modelling is the process of developing a mathematical model.\n",
    "\n",
    "3. Mathematical models can help us develop scientific thinking, test changes in a system, and make (hopefully better) decisions. \n",
    "\n",
    "4. To model a phenomenon, we start by determining what assumptions our model will make, and create flow diagrams to help us visualize it. \n",
    "\n",
    "4. We can model the COVID 19 outbreak using component models. "
   ]
  },
  {
   "cell_type": "markdown",
   "metadata": {
    "slideshow": {
     "slide_type": "skip"
    }
   },
   "source": [
    "## Further reading \n",
    "\n",
    "https://people.maths.bris.ac.uk/~madjl/course_text.pdf\n",
    "\n",
    "## Icons \n",
    "\n",
    "<a href=\"https://iconscout.com/icons/thunder\" target=\"_blank\">Thunder Icon</a> by <a href=\"https://iconscout.com/contributors/dinosoftlabs\">Dinosoft Lab</a> on <a href=\"https://iconscout.com\">Iconscout</a>\n",
    "\n",
    "\n",
    "Girl Thinking by <a href=\"https://www.clipart.email/\">clipart.email</a>"
   ]
  }
 ],
 "metadata": {
  "celltoolbar": "Slideshow",
  "kernelspec": {
   "display_name": "Python 3",
   "language": "python",
   "name": "python3"
  },
  "language_info": {
   "codemirror_mode": {
    "name": "ipython",
    "version": 3
   },
   "file_extension": ".py",
   "mimetype": "text/x-python",
   "name": "python",
   "nbconvert_exporter": "python",
   "pygments_lexer": "ipython3",
   "version": "3.7.4"
  },
  "rise": {
   "autolaunch": false,
   "backimage": "Bgnd0.jpg"
  }
 },
 "nbformat": 4,
 "nbformat_minor": 4
}
