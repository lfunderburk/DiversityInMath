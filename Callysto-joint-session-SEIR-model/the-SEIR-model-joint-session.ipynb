{
 "cells": [
  {
   "cell_type": "markdown",
   "metadata": {
    "slideshow": {
     "slide_type": "skip"
    }
   },
   "source": [
    "![Callysto.ca Banner](https://github.com/callysto/curriculum-notebooks/blob/master/callysto-notebook-banner-top.jpg?raw=true)"
   ]
  },
  {
   "cell_type": "markdown",
   "metadata": {
    "slideshow": {
     "slide_type": "skip"
    }
   },
   "source": [
    "## To use this slideshow:\n",
    "- Run All, using the menu item: Kernel/Restart & Run All\n",
    "- Return to this top cell\n",
    "- click on \"Slideshow\" menu item above, that looks like this:\n",
    "![](images/SlideIcon.png)"
   ]
  },
  {
   "cell_type": "markdown",
   "metadata": {
    "slideshow": {
     "slide_type": "slide"
    }
   },
   "source": [
    "## Mathematical Modeling\n",
    "\n",
    "### August 4, 2020 with Laura G Funderburk  \n",
    "\n",
    "### Mentors (by last name)\n",
    "\n",
    "- Lisa Cao\n",
    "- Annie Li\n",
    "- Sophie MacDonald\n",
    "- Alyaa Mohamed\n",
    "- Rajan Patel\n",
    "- Alex Tennant"
   ]
  },
  {
   "cell_type": "markdown",
   "metadata": {
    "slideshow": {
     "slide_type": "slide"
    }
   },
   "source": [
    "## Session II\n",
    "\n",
    "In this session, we’ll implement the “<b>S</b>usceptible, <b>E</b>xposed, <b>I</b>nfected and <b>R</b>ecovered” (<b>SEIR</b>) model used in epidemiology, the study of how disease occurs in populations. \n"
   ]
  },
  {
   "cell_type": "markdown",
   "metadata": {
    "slideshow": {
     "slide_type": "slide"
    }
   },
   "source": [
    "## Recap: What is a Mathematical Model\n",
    "\n",
    "A mathematical model is a description of a system using <b>mathematical concepts</b> and <b>mathematical language</b>.\n",
    "\n",
    "You can think of a math model as a tool to help us describe what we believe about the workings of phenomena in the world. \n",
    "\n",
    "<b>We use the language of mathematics to express our beliefs.</b>\n",
    "\n",
    "<b>We use mathematics (theoretical and numerical analysis) to evaluate the model, and get insights about the original phenomenon.</b>"
   ]
  },
  {
   "cell_type": "markdown",
   "metadata": {
    "slideshow": {
     "slide_type": "slide"
    }
   },
   "source": [
    "### Building Models: Our Road Map for The Course\n",
    "\n",
    "|Topic | Session |\n",
    "|-|-|\n",
    "|<font color=#000000><b>Choose what phenomenon you want to model|1|</b></font>\n",
    "|<font color=#000000><b>What assumptions are you making about the phenomenon|1|</b></font>   \n",
    "|<font color=#000000><b>Use a flow diagram to help you determine the structure of your model|1|</b></font>\n",
    "|<font color=#1f78b4><b>Choose equations|2|</b></font>\n",
    "|<font color=#1f78b4><b>Implement equations using Python|2|</b></font>\n",
    "|<font color=#1f78b4><b>Solve equations|2|</b></font>\n",
    "|<font color=#000000><b>Study the behaviour of the model|3|</b></font>\n",
    "|<font color=#000000><b>Test the model|3|</b></font>\n",
    "|<font color=#000000><b>Use the model|3|</b></font>\n"
   ]
  },
  {
   "cell_type": "markdown",
   "metadata": {
    "slideshow": {
     "slide_type": "slide"
    }
   },
   "source": [
    "## Recap: Our assumptions\n",
    "\n",
    "1. Mode of transmission of the disease is from person to person is through contact(\"contact transmission\")\n",
    "    \n",
    "2. Infected people can either be infectious or not infectious, and recover. People can die at any of the different stages. The death rate is the same across the different stages. \n",
    "\n",
    "3. Population is not-constant (that is, people are born and die as time goes by).\n",
    "\n",
    "4. A person in the population is either one of:\n",
    "    - <b>S</b>usceptible, i.e. not infected but not yet exposed, \n",
    "    - <b>E</b>xposed to the infection, i.e. exposed to the virus, but not yet infectious, \n",
    "    - <b>I</b>nfectious, and \n",
    "    - <b>R</b>ecovered from the infection.     "
   ]
  },
  {
   "cell_type": "markdown",
   "metadata": {
    "slideshow": {
     "slide_type": "slide"
    }
   },
   "source": [
    "## Recap: Flow diagram\n",
    "\n",
    "How does a person move from one stage into another? In other words, how does a person go from susceptible to exposed, to infected, to recovered? \n",
    "\n",
    "$\\Delta$: birth rate, $\\delta$: death rate (assumed constant)\n",
    "\n",
    "$\\beta$: rate of infection (non-infectious yet)\n",
    "\n",
    "$\\epsilon$: rate of infection (infectious)\n",
    "\n",
    "$\\gamma$: rate of recovery\n",
    "\n",
    "$$\\stackrel{\\Delta } {\\longrightarrow} \\text{S} \\stackrel{\\beta\\frac{S}{N} I}{\\longrightarrow} \\text{E} \\stackrel{\\epsilon E}{\\longrightarrow} \\text{I}  \\stackrel{\\gamma I}{\\longrightarrow} \\text{R}$$\n",
    "$$\\hspace{1.1cm} \\downarrow \\delta\\hspace{0.5cm} \\downarrow \\delta\\hspace{0.5cm} \\downarrow \\delta \\hspace{0.5cm} \\downarrow \\delta$$"
   ]
  },
  {
   "cell_type": "markdown",
   "metadata": {
    "slideshow": {
     "slide_type": "slide"
    }
   },
   "source": [
    "## Exercise: Going from the diagram to a system of equations\n",
    "\n",
    "Let's take a look at how we express \"moving\" from one stage to another. \n",
    "\n",
    "We note that in an outbreak, the number of people who become infected <b>changes over time</b>. If we take time $t$ as an independent variable, we can then express change in number of susceptible (the same follows for the number of exposed, infected and recovered) as a function of time. \n",
    "\n",
    "Given we are interested in tracking the <b> rate of change </b> from one stage to another, we will use a mathematical concept from Calculus called \"differential equations\". "
   ]
  },
  {
   "cell_type": "markdown",
   "metadata": {
    "slideshow": {
     "slide_type": "slide"
    }
   },
   "source": [
    "## Exercise: Going from the diagram to a system of equations\n",
    "\n",
    "We can express the rate of change in the number of Susceptible with the mathematical symbol $\\frac{dS}{dt}$. This notation indicates the ratio of change in the value of the function $S(t)$ with respect to the independent variable $t$. \n",
    "\n",
    "We can then use our diagram to help us define an equation. \n",
    "\n",
    "1. Given that $\\Delta$ is the number of people <b>moving into</b> the $S$ box, it has a <b>positive value</b>. \n",
    "\n",
    "2. Given that $\\beta \\frac{S}{N}I$ is <b>moving away from</b> the $S$ box, it has a <b>negative value</b>. \n",
    "\n",
    "3. $\\delta S$ denotes the number of people who were susceptible that died. Since $\\delta S$ is <b>moving away from</b> the $S$ box, it has a <b>negative value</b>. "
   ]
  },
  {
   "cell_type": "markdown",
   "metadata": {
    "slideshow": {
     "slide_type": "slide"
    }
   },
   "source": [
    "## Exercise: Going from the diagram to a system of equations\n",
    "\n",
    "We can then express the rate of change in the number of Susceptible as\n",
    "\n",
    "$$\\frac{dS}{dt} = \\Delta - \\beta \\frac{S}{N}I - \\delta S$$\n"
   ]
  },
  {
   "cell_type": "markdown",
   "metadata": {
    "slideshow": {
     "slide_type": "slide"
    }
   },
   "source": [
    "## Let's work in groups to deduce the rest of the equations\n",
    "\n",
    "Let's work together to deduce the remaining equations. High school and undergraduates will be broken down into groups and assigned a mentor. \n",
    "\n",
    "Your task is to discuss and agree on the equations for \n",
    "\n",
    "$$\\frac{dE}{dt} = \\text{?}, \\frac{dI}{dt}= \\text{?}, \\frac{dR}{dt} = \\text{?}$$"
   ]
  },
  {
   "cell_type": "markdown",
   "metadata": {
    "slideshow": {
     "slide_type": "slide"
    }
   },
   "source": [
    "## Our system of equations\n",
    "\n",
    "We can express our model using differential equations\n",
    "\n",
    "$$\\frac{dS}{dt} = \\delta - \\beta \\frac{S}{N}I - \\delta S$$\n",
    "\n",
    "$$\\frac{dE}{dt} = \\beta \\frac{S}{N}I - \\epsilon E - \\delta E$$\n",
    "\n",
    "$$\\frac{dI}{dt} = \\epsilon E - \\gamma I - \\delta I\\$$\n",
    "\n",
    "$$\\frac{dR}{dt} = \\gamma I - \\delta R$$\n"
   ]
  },
  {
   "cell_type": "markdown",
   "metadata": {
    "slideshow": {
     "slide_type": "slide"
    }
   },
   "source": [
    "## Initial conditions\n",
    "\n",
    "If $N(t)$ denotes the total population, then at a given time $t$,\n",
    "\n",
    "$$N(t) = S(t) + E(t) + I(t) + R(t).$$\n",
    "\n",
    "In particular, if for $t = 0$ (also known as \"day 1\") we set  \n",
    "\n",
    "$$S(0) = S_0, E(0) = E_0, I(0) = I_0, R(0) = R_0, $$\n",
    "\n",
    "then the population at day 1 is:\n",
    "\n",
    "$$N(0) = S_0 + E_0 + I_0 + R_0.$$\n",
    "\n",
    "$S_0, E_0, I_0, R_0$ are known as \"initial conditions\" - we will need them to solve our system."
   ]
  },
  {
   "cell_type": "markdown",
   "metadata": {
    "slideshow": {
     "slide_type": "slide"
    }
   },
   "source": [
    "## Implementing out set of equations using Python\n",
    "\n",
    "In this next exercise, high school and undergraduate students will be broken down into groups again, and will work along with mentors to implement the set of equations using Python code. "
   ]
  },
  {
   "cell_type": "code",
   "execution_count": null,
   "metadata": {
    "slideshow": {
     "slide_type": "skip"
    }
   },
   "outputs": [],
   "source": [
    "import numpy as np\n",
    "from scipy.integrate import odeint\n",
    "import plotly.express as px \n",
    "import pandas as pd\n",
    "import plotly.graph_objects as go\n",
    "\n",
    "# A grid of time points (in days)\n",
    "t = np.linspace(0, 750, 750)\n",
    "\n",
    "\n",
    "# The SEIR model differential equations.\n",
    "def deriv(y, t, N,Delta, delta, beta, epsilon, gamma):\n",
    "    S, E, I, R = y\n",
    "    dS = delta - beta*S*I/N-delta*S\n",
    "    dE = beta*S/N*I-epsilon*E - delta*E\n",
    "    dI = epsilon*E - gamma*I- delta*I\n",
    "    dR = gamma*I - delta*R\n",
    "    \n",
    "    return dS,dE, dI, dR\n",
    "\n",
    "\n",
    "    \n",
    "def plot_infections(Delta, delta, beta, epsilon, gamma):\n",
    "    \n",
    "    # Initial number of infected and recovered individuals, I0 and R0.\n",
    "    S0, E0,I0, R0 = 37000000,0,1,0\n",
    "    # Total population, N.\n",
    "    N = S0 + E0 + I0 + R0\n",
    "    # Initial conditions vector\n",
    "    y0 = S0,E0, I0, R0\n",
    "    # Integrate the SIR equations over the time grid, t.\n",
    "    ret = odeint(deriv, y0, t, args=(N, Delta, delta, beta, epsilon, gamma))\n",
    "    S, E,I, R = ret.T\n",
    "\n",
    "    seir_simulation = pd.DataFrame({\"Susceptible\":S,\"Exposed\":E,\"Infected\":I,\"Recovered\":R,\"Time (days)\":t})\n",
    "\n",
    "    layout = dict( xaxis=dict(title='Time (days)', linecolor='#d9d9d9', mirror=True),\n",
    "              yaxis=dict(title='Number of people', linecolor='#d9d9d9', mirror=True))\n",
    "    \n",
    "    fig = go.Figure(layout=layout)\n",
    "    \n",
    "    fig.add_trace(go.Scatter(x=seir_simulation[\"Time (days)\"], y=seir_simulation[\"Susceptible\"],\n",
    "                        mode='lines',\n",
    "                        name='Susceptible'))\n",
    "    \n",
    "    fig.add_trace(go.Scatter(x=seir_simulation[\"Time (days)\"], y=seir_simulation[\"Exposed\"],\n",
    "                        mode='lines',\n",
    "                        name='Exposed'))\n",
    "    \n",
    "    fig.add_trace(go.Scatter(x=seir_simulation[\"Time (days)\"], y=seir_simulation[\"Infected\"],\n",
    "                    mode='lines',\n",
    "                    name='Infected'))\n",
    "    \n",
    "    fig.add_trace(go.Scatter(x=seir_simulation[\"Time (days)\"], y=seir_simulation[\"Recovered\"],\n",
    "                        mode='lines', name='Recovered'))\n",
    "\n",
    "    fig.update_layout(title_text=\"Projected Susceptible, Exposed, Infectious and Recovered\")\n",
    "\n",
    "    fig.show();"
   ]
  },
  {
   "cell_type": "code",
   "execution_count": null,
   "metadata": {
    "slideshow": {
     "slide_type": "slide"
    }
   },
   "outputs": [],
   "source": [
    "# The SEIR model differential equations.\n",
    "def deriv(y, t, N,Delta, delta, beta, epsilon, gamma):\n",
    "    S, E, I, R = y\n",
    "    dS = delta - beta*S*I/N-delta*S\n",
    "    dE = beta*S/N*I-epsilon*E - delta*E\n",
    "    dI = epsilon*E - gamma*I- delta*I\n",
    "    dR = gamma*I - delta*R\n",
    "    \n",
    "    return dS,dE, dI, dR\n",
    "\n",
    "# Initial number of infected and recovered individuals, I0 and R0.\n",
    "S0, E0,I0, R0 = 37000000,0,1,0"
   ]
  },
  {
   "cell_type": "code",
   "execution_count": null,
   "metadata": {
    "slideshow": {
     "slide_type": "slide"
    }
   },
   "outputs": [],
   "source": [
    "# Solving the equation\n",
    "from scipy.integrate import odeint\n",
    "import pandas as pd\n",
    "# Total population, N.\n",
    "N = S0 + E0 + I0 + R0\n",
    "# Initial conditions vector\n",
    "y0 = S0,E0, I0, R0\n",
    "# Integrate the SEIR equations over the time grid, t.\n",
    "Delta = 0.001\n",
    "delta =0.01\n",
    "beta = 0.25\n",
    "epsilon = 14\n",
    "gamma = 0.01\n",
    "ret = odeint(deriv, y0, t, args=(N, Delta, delta, beta, epsilon, gamma))\n",
    "S, E,I, R = ret.T\n",
    "\n",
    "seir_simulation = pd.DataFrame({\"Susceptible\":S,\"Exposed\":E,\"Infectious\":I,\"Recovered\":R,\"Time (days)\":t})"
   ]
  },
  {
   "cell_type": "code",
   "execution_count": null,
   "metadata": {
    "slideshow": {
     "slide_type": "slide"
    }
   },
   "outputs": [],
   "source": [
    "px.line(seir_simulation,\"Time (days)\",'Infectious',title=\"Number of infectious people\")"
   ]
  },
  {
   "cell_type": "markdown",
   "metadata": {
    "slideshow": {
     "slide_type": "slide"
    }
   },
   "source": [
    "## When is there a solution? \n",
    "\n",
    "First it is important to note that solutions that make sense include all those solutions where the rate of change in population is positive (-1 people in the world makes no sense). Mathematically this can be expressed as\n",
    "\n",
    "$$\\frac{dN}{dt} =\\frac{S}{dt} + \\frac{dE}{dt} + \\frac{dI}{dt} + \\frac{dR}{dt} > 0$$\n",
    "\n",
    "If we substitute each of the equations from our system, this happens when\n",
    "\n",
    "$$N  \\leq \\frac{\\Delta}{\\delta} \\Leftrightarrow S + E + I + R \\leq \\frac{\\Delta}{\\delta} $$\n",
    "\n",
    "In simple terms, the rate of change of the population is positive when there are more births than deaths. "
   ]
  },
  {
   "cell_type": "markdown",
   "metadata": {
    "slideshow": {
     "slide_type": "slide"
    }
   },
   "source": [
    "## When is there equilibrium? \n",
    "\n",
    "Another way to think about rate of change is in terms of slope. One value that is of interest to mathematicians is the value in which a rate changes from positive to negative. \n",
    "\n",
    "At equlibrium the slope is horizontal. We can find this value using mathematics by setting a derivative equal to zero. \n",
    "\n",
    "We can find the equilibrium for our system by setting\n",
    "\n",
    "$$\\frac{dS}{dt} =\\frac{dE}{dt} =\\frac{dI}{dt} =\\frac{dR}{dt}  = 0 $$\n",
    "\n",
    "Playing some more with the equations indicates that R can be manipulated to be in terms of E or I. So that if the number of infectious (or exposed) is zero, then the number of exposed and recovered is zero too. This makes sense - if no one is infected in our population, then no one can catch the virus. "
   ]
  },
  {
   "cell_type": "code",
   "execution_count": null,
   "metadata": {
    "slideshow": {
     "slide_type": "slide"
    }
   },
   "outputs": [],
   "source": [
    "# Initial number of infected and recovered individuals, I0 and R0.\n",
    "S0, E0,I0, R0 = 37000000,0,0,0\n",
    "# Total population, N.\n",
    "N = S0 + E0 + I0 + R0\n",
    "# Initial conditions vector\n",
    "y0 = S0,E0, I0, R0\n",
    "# Integrate the SEIR equations over the time grid, t.\n",
    "ret = odeint(deriv, y0, t, args=(N, Delta, delta, beta, epsilon, gamma))\n",
    "S, E,I, R = ret.T\n",
    "\n",
    "seir_simulation = pd.DataFrame({\"Susceptible\":S,\"Exposed\":E,\"Infectious\":I,\"Recovered\":R,\"Time (days)\":t})\n",
    "px.line(seir_simulation,\"Time (days)\",'Infectious',title=\"Number of infectious people\")"
   ]
  },
  {
   "cell_type": "markdown",
   "metadata": {
    "slideshow": {
     "slide_type": "slide"
    }
   },
   "source": [
    "## When is there equilibrium?\n",
    "\n",
    "Let's suppose there is at least one infectious person in the population. \n",
    "\n",
    "We can do a bit of algebra to compute a very important number called $R_0$. This number is called \"general (or basic) reproduction number\". This is the number that epidemiologists use to determine the number of new cases a single individual will produce. \n",
    "\n",
    "We can do a bit of math to get this number. I will show you the simulation first, then the math behind it. \n",
    "\n",
    "For now, believe me. \n",
    "\n",
    "$$R_0 = \\frac{\\Delta \\beta \\epsilon}{\\delta (\\delta + \\gamma) (\\delta + \\epsilon)}$$\n",
    "\n",
    "If $R_0 < 1$ - this is disease free.\n",
    "\n",
    "If $R_0 \\geq 1$ - this is called \"endemic\" and indicates there is an outbreak."
   ]
  },
  {
   "cell_type": "code",
   "execution_count": null,
   "metadata": {
    "slideshow": {
     "slide_type": "slide"
    }
   },
   "outputs": [],
   "source": [
    "# Let's play with this code and simulate an outbreak\n",
    "Delta = 0.001\n",
    "delta =0.01\n",
    "beta = 1\n",
    "epsilon = 2\n",
    "gamma = 0.01\n",
    "numerator = Delta*beta*epsilon\n",
    "denominator = delta*(delta + gamma)*(delta + epsilon)\n",
    "print(\"R_0 is equal to\", numerator/denominator)\n",
    "plot_infections(Delta, delta, beta, epsilon, gamma)"
   ]
  },
  {
   "cell_type": "markdown",
   "metadata": {
    "slideshow": {
     "slide_type": "slide"
    }
   },
   "source": [
    "## Session II Take Away\n",
    "\n",
    "In this session we learned:\n",
    "\n",
    "1. We can use differential equations, a tool from calculus, to express rate of change for the different stages in our model \n",
    "2. How to go from a flow diagram into a system of differential equations\n",
    "3. How to implement our code using Python\n",
    "4. The relationship between changing variables $\\Delta, \\delta, \\beta, \\epsilon, \\gamma$ and the number of S,E,I,R cases in our model."
   ]
  },
  {
   "cell_type": "markdown",
   "metadata": {
    "slideshow": {
     "slide_type": "skip"
    }
   },
   "source": [
    "## Further reading \n",
    "\n",
    "https://towardsdatascience.com/infectious-disease-modelling-beyond-the-basic-sir-model-216369c584c4\n"
   ]
  },
  {
   "cell_type": "markdown",
   "metadata": {
    "slideshow": {
     "slide_type": "skip"
    }
   },
   "source": [
    "[![Callysto.ca License](https://github.com/callysto/curriculum-notebooks/blob/master/callysto-notebook-banner-bottom.jpg?raw=true)](https://github.com/callysto/curriculum-notebooks/blob/master/LICENSE.md)"
   ]
  }
 ],
 "metadata": {
  "celltoolbar": "Slideshow",
  "kernelspec": {
   "display_name": "Python 3",
   "language": "python",
   "name": "python3"
  },
  "language_info": {
   "codemirror_mode": {
    "name": "ipython",
    "version": 3
   },
   "file_extension": ".py",
   "mimetype": "text/x-python",
   "name": "python",
   "nbconvert_exporter": "python",
   "pygments_lexer": "ipython3",
   "version": "3.8.4"
  },
  "rise": {
   "autolaunch": false,
   "backimage": "Bgnd0.jpg"
  }
 },
 "nbformat": 4,
 "nbformat_minor": 4
}
