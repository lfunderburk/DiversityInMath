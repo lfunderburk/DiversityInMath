{
 "cells": [
  {
   "cell_type": "markdown",
   "metadata": {},
   "source": [
    "![Callysto.ca Banner](https://github.com/callysto/curriculum-notebooks/blob/master/callysto-notebook-banner-top.jpg?raw=true)"
   ]
  },
  {
   "cell_type": "markdown",
   "metadata": {},
   "source": [
    "## Diversity in Math: Modeling the COVID 19 Outbreak\n",
    "\n",
    "Use this notebook to enter your code and exercises. \n",
    "\n",
    "TA/Mentor:\n",
    "\n",
    "Team members (specify if undergraduate or high school student):\n",
    "\n",
    "- \n",
    "\n",
    "- \n",
    "\n",
    "- "
   ]
  },
  {
   "cell_type": "markdown",
   "metadata": {},
   "source": [
    "## Task I: Explain the flow diagram we worked on during the first session\n",
    "\n",
    "### Our assumptions\n",
    "\n",
    "1. Mode of transmission of the disease from person to person is through contact (\"contact transmission\") between a person who interacts with an infectious person. \n",
    "    \n",
    "2. Once a person comes into contact with the pathogen, there is a period of time (called the latency period) in which they are infected, but cannot infect others (yet!). \n",
    "\n",
    "3. Population is not-constant (that is, people are born and die as time goes by).\n",
    "\n",
    "4. A person in the population is either one of:\n",
    "    - <b>S</b>usceptible, i.e. not infected but not yet exposed, \n",
    "    - <b>E</b>xposed to the infection, i.e. exposed to the virus, but not yet infectious, \n",
    "    - <b>I</b>nfectious, and \n",
    "    - <b>R</b>ecovered from the infection. \n",
    "    \n",
    "5. People can die by \"natural causes\" during any of the stages. We assume an additional cause of death associated with the infectious stage. \n",
    "\n",
    "How does a person move from one stage into another? In other words, how does a person go from susceptible to exposed, to infected, to recovered? \n",
    "\n",
    "$\\Delta$: Per-capita birth rate.\n",
    "\n",
    "$\\mu$: Per-capita natural death rate.\n",
    "\n",
    "$\\alpha$: Virus-induced average fatality rate.\n",
    "\n",
    "$\\beta$: Probability of disease transmission per contact (dimensionless) times the number of contacts per unit time.\n",
    "\n",
    "$\\epsilon$: Rate of progression from exposed to infectious (the reciprocal is the incubation period).\n",
    "\n",
    "$\\gamma$: Recovery rate of infectious individuals (the reciprocal is the infectious period)."
   ]
  },
  {
   "cell_type": "markdown",
   "metadata": {},
   "source": [
    "### Flow diagram\n",
    "\n",
    "$$\\stackrel{\\Delta N} {\\longrightarrow} \\text{S} \\stackrel{\\beta\\frac{S}{N} I}{\\longrightarrow} \\text{E} \\stackrel{\\epsilon}{\\longrightarrow} \\text{I}  \\stackrel{\\gamma}{\\longrightarrow} \\text{R}$$\n",
    "$$\\hspace{1.1cm} \\downarrow \\mu \\hspace{0.6cm} \\downarrow \\mu  \\hspace{0.5cm} \\downarrow \\mu, \\alpha  \\hspace{0.1cm} \\downarrow \\mu $$"
   ]
  },
  {
   "cell_type": "markdown",
   "metadata": {},
   "source": [
    "### Optional: \n",
    "\n",
    "Team members are welcome to discuss other ways we can capture the behaviour of people moving in between stages, other assumptions, and to create your own flow diagram. \n",
    "\n",
    "Use this cell to capture other assumptions you make. You are free to draw a different diagram. Make sure you create one along with your mentor, and send to the facilitator. "
   ]
  },
  {
   "cell_type": "markdown",
   "metadata": {},
   "source": [
    "____"
   ]
  },
  {
   "cell_type": "markdown",
   "metadata": {},
   "source": [
    "## Task II: Choosing Differential Equations\n",
    "\n",
    "Work together to use differential equations to generate the rest of the equations for Exposed, Infectious and Recovered individuals.\n",
    "\n",
    "Your task is to discuss and agree on the equations for \n",
    "\n",
    "$$\\frac{dE}{dt} = \\text{?}, \\frac{dI}{dt}= \\text{?}, \\frac{dR}{dt} = \\text{?}$$\n",
    "\n",
    "If your model makes different assumptions, and as such the flow diagram is different from the instructors, make sure your equations reflect this."
   ]
  },
  {
   "cell_type": "markdown",
   "metadata": {},
   "source": [
    "___"
   ]
  },
  {
   "cell_type": "markdown",
   "metadata": {},
   "source": [
    "## Task III: Implement the system of equations using Python\n",
    "\n",
    "Your task is to guide the TA to implement the set of equations using Python."
   ]
  },
  {
   "cell_type": "code",
   "execution_count": null,
   "metadata": {},
   "outputs": [],
   "source": [
    "# Code here\n",
    "\n"
   ]
  },
  {
   "cell_type": "code",
   "execution_count": null,
   "metadata": {},
   "outputs": [],
   "source": []
  },
  {
   "cell_type": "code",
   "execution_count": null,
   "metadata": {},
   "outputs": [],
   "source": []
  },
  {
   "cell_type": "code",
   "execution_count": null,
   "metadata": {},
   "outputs": [],
   "source": []
  },
  {
   "cell_type": "markdown",
   "metadata": {},
   "source": [
    "[![Callysto.ca License](https://github.com/callysto/curriculum-notebooks/blob/master/callysto-notebook-banner-bottom.jpg?raw=true)](https://github.com/callysto/curriculum-notebooks/blob/master/LICENSE.md)"
   ]
  }
 ],
 "metadata": {
  "kernelspec": {
   "display_name": "Python 3",
   "language": "python",
   "name": "python3"
  },
  "language_info": {
   "codemirror_mode": {
    "name": "ipython",
    "version": 3
   },
   "file_extension": ".py",
   "mimetype": "text/x-python",
   "name": "python",
   "nbconvert_exporter": "python",
   "pygments_lexer": "ipython3",
   "version": "3.8.4"
  }
 },
 "nbformat": 4,
 "nbformat_minor": 4
}
