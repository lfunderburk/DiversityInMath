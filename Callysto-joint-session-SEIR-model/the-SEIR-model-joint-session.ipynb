{
 "cells": [
  {
   "cell_type": "markdown",
   "metadata": {
    "slideshow": {
     "slide_type": "skip"
    }
   },
   "source": [
    "![Callysto.ca Banner](https://github.com/callysto/curriculum-notebooks/blob/master/callysto-notebook-banner-top.jpg?raw=true)"
   ]
  },
  {
   "cell_type": "markdown",
   "metadata": {
    "slideshow": {
     "slide_type": "skip"
    }
   },
   "source": [
    "## To use this slideshow:\n",
    "- Run All, using the menu item: Kernel/Restart & Run All\n",
    "- Return to this top cell\n",
    "- click on \"Slideshow\" menu item above, that looks like this:\n",
    "![](images/SlideIcon.png)"
   ]
  },
  {
   "cell_type": "markdown",
   "metadata": {
    "slideshow": {
     "slide_type": "slide"
    }
   },
   "source": [
    "## Mathematical Modeling\n",
    "\n",
    "### August 4, 2020 with Laura G Funderburk, She/her\n",
    "\n",
    "### Mentors (by last name)\n",
    "\n",
    "- Lisa Cao, She/her\n",
    "- Annie Li, She/her\n",
    "- Sophie MacDonald, She/her\n",
    "- Alyaa Mohamed\n",
    "- Rajan Patel, He/him\n",
    "- Alex Tennant, He/him "
   ]
  },
  {
   "cell_type": "markdown",
   "metadata": {
    "slideshow": {
     "slide_type": "slide"
    }
   },
   "source": [
    "## Session II\n",
    "\n",
    "In this session, we’ll implement the “<b>S</b>usceptible, <b>E</b>xposed, <b>I</b>nfected and <b>R</b>ecovered” (<b>SEIR</b>) model used in epidemiology, the study of how disease occurs in populations. \n"
   ]
  },
  {
   "cell_type": "markdown",
   "metadata": {
    "slideshow": {
     "slide_type": "slide"
    }
   },
   "source": [
    "## Recap: What is a Mathematical Model\n",
    "\n",
    "A mathematical model is a description of a system using <b>mathematical concepts</b> and <b>mathematical language</b>.\n",
    "\n",
    "You can think of a math model as a tool to help us describe what we believe about the workings of phenomena in the world. \n",
    "\n",
    "<b>We use the language of mathematics to express our beliefs.</b>\n",
    "\n",
    "<b>We use mathematics (theoretical and numerical analysis) to evaluate the model, and get insights about the original phenomenon.</b>"
   ]
  },
  {
   "cell_type": "markdown",
   "metadata": {
    "slideshow": {
     "slide_type": "slide"
    }
   },
   "source": [
    "### Building Models: Our Road Map for The Course\n",
    "\n",
    "|Topic | Session |\n",
    "|-|-|\n",
    "|<font color=#000000><b>Choose what phenomenon you want to model|1|</b></font>\n",
    "|<font color=#000000><b>What assumptions are you making about the phenomenon|1|</b></font>   \n",
    "|<font color=#000000><b>Use a flow diagram to help you determine the structure of your model|1|</b></font>\n",
    "|<font color=#1f78b4><b>Choose equations|2|</b></font>\n",
    "|<font color=#1f78b4><b>Implement equations using Python|2|</b></font>\n",
    "|<font color=#1f78b4><b>Solve equations|2|</b></font>\n",
    "|<font color=#000000><b>Study the behaviour of the model|3|</b></font>\n",
    "|<font color=#000000><b>Test the model|3|</b></font>\n",
    "|<font color=#000000><b>Use the model|3|</b></font>\n"
   ]
  },
  {
   "cell_type": "markdown",
   "metadata": {
    "slideshow": {
     "slide_type": "slide"
    }
   },
   "source": [
    "## Recap: Our assumptions\n",
    "\n",
    "1. Mode of transmission of the disease from person to person is through contact (\"contact transmission\") between a person who interacts with an infectious person. \n",
    "    \n",
    "2. Once a person comes into contact with the pathogen, there is a period of time (called the latency period) in which they are infected, but cannot infect others (yet!). \n",
    "\n",
    "3. Population is not-constant (that is, people are born and die as time goes by).\n",
    "\n",
    " "
   ]
  },
  {
   "cell_type": "markdown",
   "metadata": {
    "slideshow": {
     "slide_type": "subslide"
    }
   },
   "source": [
    "## Recap: Our assumptions\n",
    "\n",
    "\n",
    "4. A person in the population is either one of:\n",
    "    - <b>S</b>usceptible, i.e. not infected but not yet exposed, \n",
    "    - <b>E</b>xposed to the infection, i.e. exposed to the virus, but not yet infectious, \n",
    "    - <b>I</b>nfectious, and \n",
    "    - <b>R</b>ecovered from the infection. \n",
    "    \n",
    "5. People can die by \"natural causes\" during any of the stages. We assume an additional cause of death associated with the infectious stage.  "
   ]
  },
  {
   "cell_type": "markdown",
   "metadata": {
    "slideshow": {
     "slide_type": "slide"
    }
   },
   "source": [
    "## Your task:\n",
    "\n",
    "Mentors, undergraduates and high school students will be broken down into groups. \n",
    "\n",
    "High school students, with the help of mentors, will explain the flow diagram that we worked on this morning to the undergraduate students, and how this relates to our assumptions. \n",
    "\n",
    "This is the first of three exercises in which you will collaborate together to design and implement a model for the COVID 19 outbreak. "
   ]
  },
  {
   "cell_type": "markdown",
   "metadata": {
    "slideshow": {
     "slide_type": "slide"
    }
   },
   "source": [
    "## Recap: Flow diagram\n",
    "\n",
    "How does a person move from one stage into another? In other words, how does a person go from susceptible to exposed, to infected, to recovered? \n",
    "\n",
    "$\\Delta$: Per-capita birth rate.\n",
    "\n",
    "$\\mu$: Per-capita natural death rate.\n",
    "\n",
    "$\\alpha$: Virus-induced average fatality rate.\n",
    "\n",
    "$\\beta$: Probability of disease transmission per contact (dimensionless) times the number of contacts per unit time.\n",
    "\n",
    "$\\epsilon$: Rate of progression from exposed to infectious (the reciprocal is the incubation period).\n",
    "\n",
    "$\\gamma$: Recovery rate of infectious individuals (the reciprocal is the infectious period).\n",
    "\n"
   ]
  },
  {
   "cell_type": "markdown",
   "metadata": {
    "slideshow": {
     "slide_type": "subslide"
    }
   },
   "source": [
    "## Recap: Flow diagram\n",
    "\n",
    "\n",
    "$$\\stackrel{\\Delta N} {\\longrightarrow} \\text{S} \\stackrel{\\beta\\frac{S}{N} I}{\\longrightarrow} \\text{E} \\stackrel{\\epsilon}{\\longrightarrow} \\text{I}  \\stackrel{\\gamma}{\\longrightarrow} \\text{R}$$\n",
    "$$\\hspace{1.1cm} \\downarrow \\mu \\hspace{0.6cm} \\downarrow \\mu  \\hspace{0.5cm} \\downarrow \\mu, \\alpha  \\hspace{0.1cm} \\downarrow \\mu $$"
   ]
  },
  {
   "cell_type": "code",
   "execution_count": null,
   "metadata": {
    "slideshow": {
     "slide_type": "notes"
    }
   },
   "outputs": [],
   "source": [
    "# Break into groups \n",
    "# Ask high school students to share with undergraduates what they did, i.e. flow diagram \n",
    "# Emphasis on Collaboration and team work "
   ]
  },
  {
   "cell_type": "markdown",
   "metadata": {
    "slideshow": {
     "slide_type": "slide"
    }
   },
   "source": [
    "## Exercise: Going from the diagram to a system of equations\n",
    "\n",
    "Let's take a look at how we express \"moving\" from one stage to another. \n",
    "\n",
    "We note that in an outbreak, the number of people who become infected <b>changes over time</b>. If we take time $t$ as an independent variable, we can then express change in number of susceptible (the same follows for the number of exposed, infected and recovered) as a function of time. \n",
    "\n",
    "Given we are interested in tracking the <b> rate of change </b> from one stage to another, we will use a mathematical concept from Calculus called \"differential equations\". "
   ]
  },
  {
   "cell_type": "markdown",
   "metadata": {
    "slideshow": {
     "slide_type": "slide"
    }
   },
   "source": [
    "## Differential equations \n",
    "\n",
    "A differential equation is an equation with a function and one or more of its derivatives. For example, if $Y(t)$ is a function of time $t$, then its rate of change can be expressed as $\\frac{dY}{dt}$. \n",
    "\n",
    "One example of differential equation involving $Y(t)$ is \n",
    "\n",
    "$$\\frac{dY}{dt} = Y(t) + 5.$$\n",
    "\n",
    "In our world things change over time, and describing how things change can be expressed using differential equations. "
   ]
  },
  {
   "cell_type": "markdown",
   "metadata": {
    "slideshow": {
     "slide_type": "slide"
    }
   },
   "source": [
    "## Exercise: Going from the diagram to a system of equations\n",
    "\n",
    "We can express the rate of change in the number of Susceptible with the mathematical symbol $\\frac{dS}{dt}$. This notation indicates the ratio of change in the value of the function $S(t)$ with respect to the independent variable $t$. \n",
    "\n",
    "We can then use our diagram to help us define an equation. \n",
    "\n",
    "1. Given that $\\Delta$ is the number of people <b>moving into</b> the $S$ box, it has a <b>positive value</b>. \n",
    "\n",
    "2. Given that $\\beta \\frac{S}{N}I$ is <b>moving away from</b> the $S$ box, it has a <b>negative value</b>. \n",
    "\n",
    "3. $\\delta S$ denotes the number of people who were susceptible that died. Since $\\delta S$ is <b>moving away from</b> the $S$ box, it has a <b>negative value</b>. "
   ]
  },
  {
   "cell_type": "markdown",
   "metadata": {
    "slideshow": {
     "slide_type": "slide"
    }
   },
   "source": [
    "## Exercise: Going from the diagram to a system of equations\n",
    "\n",
    "We can then express the rate of change in the number of Susceptible as\n",
    "\n",
    "\n",
    "$$\\frac{dS}{dt} = \\Delta N - \\beta \\frac{S}{N}I - \\mu S$$\n"
   ]
  },
  {
   "cell_type": "markdown",
   "metadata": {
    "slideshow": {
     "slide_type": "slide"
    }
   },
   "source": [
    "## Your task:\n",
    "\n",
    "Mentors, undergraduates and high school students will work together to use differential equations to generate the rest of the equations for Exposed, Infectious and Recovered individuals.\n",
    "\n",
    "Your task is to discuss and agree on the equations for \n",
    "\n",
    "$$\\frac{dE}{dt} = \\text{?}, \\frac{dI}{dt}= \\text{?}, \\frac{dR}{dt} = \\text{?}$$\n"
   ]
  },
  {
   "cell_type": "markdown",
   "metadata": {
    "slideshow": {
     "slide_type": "slide"
    }
   },
   "source": [
    "## Our system of equations\n",
    "\n",
    "$N$ is updated at each time step, and infected peopel die at a higher rate. \n",
    "\n",
    "$$ N = S + E + I + R$$\n",
    "\n",
    "We can then express our model using differential equations\n",
    "\n",
    "$$\\frac{dS}{dt} = \\Delta N - \\beta \\frac{S}{N}I - \\mu S$$\n",
    "\n",
    "$$\\frac{dE}{dt} = \\beta \\frac{S}{N}I - (\\mu + \\epsilon )E$$\n",
    "\n",
    "$$\\frac{dI}{dt} = \\epsilon E - (\\gamma+ \\mu + \\alpha )I$$\n",
    "\n",
    "$$\\frac{dR}{dt} = \\gamma I - \\mu R$$\n"
   ]
  },
  {
   "cell_type": "markdown",
   "metadata": {
    "slideshow": {
     "slide_type": "subslide"
    }
   },
   "source": [
    "## Our system of equations\n",
    "\n",
    "\n",
    "Also, we can keep track of people who die due to the infection. \n",
    "\n",
    "$$\\frac{dD}{dt} = \\alpha I $$"
   ]
  },
  {
   "cell_type": "markdown",
   "metadata": {
    "slideshow": {
     "slide_type": "slide"
    }
   },
   "source": [
    "## Initial conditions\n",
    "\n",
    "If $N(t)$ denotes the total population and if $S(t), E(t), I(t), R(t)$ denote the number of susceptible, exposed, infectious and recovered, then at a given time $t$,\n",
    "\n",
    "$$N(t) = S(t) + E(t) + I(t) + R(t).$$\n",
    "\n",
    "In particular, if for $t = 0$ (also known as \"day zero\") we set  \n",
    "\n",
    "$$S(0) = S_0, E(0) = E_0, I(0) = I_0, R(0) = R_0, $$\n",
    "\n",
    "then the population at day 0 is:\n",
    "\n",
    "$$N(0) = S_0 + E_0 + I_0 + R_0.$$\n",
    "\n",
    "$S_0, E_0, I_0, R_0$ are known as \"initial conditions\" - we will need them to solve our system."
   ]
  },
  {
   "cell_type": "markdown",
   "metadata": {
    "slideshow": {
     "slide_type": "slide"
    }
   },
   "source": [
    "## Implementing out set of equations using Python\n",
    "\n",
    "In this next exercise, high school and undergraduate students will be broken down into groups again, and will work along with mentors to implement the set of equations using Python code. "
   ]
  },
  {
   "cell_type": "markdown",
   "metadata": {
    "slideshow": {
     "slide_type": "fragment"
    }
   },
   "source": [
    "### Exercise: Going from the system of equations to implementing in Python\n",
    "\n",
    "Recall that we can express the rate of change for Susceptible as\n",
    "\n",
    "$$\\frac{dS}{dt} = \\Delta N - \\beta \\frac{S}{N}I - \\mu S$$\n"
   ]
  },
  {
   "cell_type": "code",
   "execution_count": null,
   "metadata": {
    "slideshow": {
     "slide_type": "fragment"
    }
   },
   "outputs": [],
   "source": [
    "# What does this look like in Python?\n",
    "dS = Delta*N - beta * (S/N)*I - mu*S"
   ]
  },
  {
   "cell_type": "markdown",
   "metadata": {
    "slideshow": {
     "slide_type": "slide"
    }
   },
   "source": [
    "## Your task:\n",
    "\n",
    "Mentors, undergraduates and high school students will work together to express the system of equations using Python."
   ]
  },
  {
   "cell_type": "code",
   "execution_count": null,
   "metadata": {
    "slideshow": {
     "slide_type": "skip"
    }
   },
   "outputs": [],
   "source": [
    "import numpy as np\n",
    "from scipy.integrate import odeint\n",
    "import matplotlib.pyplot as plt\n",
    "from ipywidgets import interact, interact_manual, widgets, Layout, VBox, HBox, Button\n",
    "from IPython.display import display, Javascript, Markdown, HTML, clear_output\n",
    "import pandas as pd\n",
    "import plotly.express as px \n",
    "import plotly.graph_objects as go\n",
    "\n",
    "# A grid of time points (in days)\n",
    "t = np.linspace(0, 750, 750)\n",
    "\n",
    "\n",
    "# The SEIR model differential equations.\n",
    "def deriv(y, t, Delta, beta, mu, epsilon,gamma,alpha):\n",
    "    S, E, I, R, D = y\n",
    "    N = S + E + I + R\n",
    "    dS = Delta*N  - beta*S*I/N - mu*S\n",
    "    dE = beta*S*I/N - (mu + epsilon)*E\n",
    "    dI = epsilon*E - (gamma + mu + alpha)*I\n",
    "    dR = gamma*I - mu*R\n",
    "    dD = alpha*I \n",
    "    \n",
    "    return [dS,dE, dI, dR, dD]\n",
    "\n",
    "\n",
    "def plot_infections(Delta, beta, mu, epsilon,gamma,alpha):\n",
    "    \n",
    "    # Initial number of infected and recovered individuals, I0 and R0.\n",
    "    S0, E0,I0, R0 ,D0 = 37000000,0,100,0,0\n",
    "    # Total population, N.\n",
    "    N = S0 + E0 + I0 + R0\n",
    "    # Initial conditions vector\n",
    "    y0 = S0,E0, I0, R0, D0\n",
    "    # Integrate the SIR equations over the time grid, t.\n",
    "    ret = odeint(deriv, y0, t, args=(Delta, beta, mu, epsilon,gamma,alpha))\n",
    "    S, E,I, R, D = ret.T\n",
    "\n",
    "    seir_simulation = pd.DataFrame({\"Susceptible\":S,\"Exposed\":E,\"Infected\":I,\"Recovered\":R,\"Deaths\":D, \"Time (days)\":t})\n",
    "\n",
    "    layout = dict( xaxis=dict(title='Time (days)', linecolor='#d9d9d9', mirror=True),\n",
    "              yaxis=dict(title='Number of people', linecolor='#d9d9d9', mirror=True))\n",
    "    \n",
    "    fig = go.Figure(layout=layout)\n",
    "    \n",
    "#    fig.add_trace(go.Scatter(x=seir_simulation[\"Time (days)\"], y=seir_simulation[\"Susceptible\"],\n",
    "#                        mode='lines',\n",
    "#                        name='Susceptible'))\n",
    "    \n",
    "    fig.add_trace(go.Scatter(x=seir_simulation[\"Time (days)\"], y=seir_simulation[\"Exposed\"],\n",
    "                        mode='lines',\n",
    "                        name='Exposed'))\n",
    "    \n",
    "    fig.add_trace(go.Scatter(x=seir_simulation[\"Time (days)\"], y=seir_simulation[\"Infected\"],\n",
    "                    mode='lines',\n",
    "                    name='Infected'))\n",
    "    \n",
    "    fig.add_trace(go.Scatter(x=seir_simulation[\"Time (days)\"], y=seir_simulation[\"Recovered\"],\n",
    "                        mode='lines', name='Recovered'))\n",
    "\n",
    "    fig.add_trace(go.Scatter(x=seir_simulation[\"Time (days)\"], y=seir_simulation[\"Deaths\"],\n",
    "                        mode='lines', name='Deaths'))\n",
    "\n",
    "    fig.update_layout(title_text=\"Projected Susceptible, Exposed, Infectious, Recovered, Deaths\")\n",
    "\n",
    "    fig.show();\n"
   ]
  },
  {
   "cell_type": "code",
   "execution_count": null,
   "metadata": {
    "slideshow": {
     "slide_type": "slide"
    }
   },
   "outputs": [],
   "source": [
    "# Our code\n",
    "# A grid of time points (in days)\n",
    "t = np.linspace(0, 750, 750)\n",
    "\n",
    "# The SEIR model differential equations.\n",
    "def deriv(y, t, Delta, beta, mu, epsilon,gamma,alpha):\n",
    "    S, E, I, R, D = y\n",
    "    N = S + E + I + R\n",
    "    dS = Delta*N  - beta*S*I/N - mu*S\n",
    "    dE = beta*S*I/N - (mu + epsilon)*E\n",
    "    dI = epsilon*E - (gamma + mu + alpha)*I\n",
    "    dR = gamma*I - mu*R\n",
    "    dD = alpha*I \n",
    "    \n",
    "    return [dS,dE, dI, dR, dD]"
   ]
  },
  {
   "cell_type": "markdown",
   "metadata": {
    "slideshow": {
     "slide_type": "slide"
    }
   },
   "source": [
    "## We have a model.... how do we solve it? \n",
    "\n",
    "We can use Python to help us determine how the values of $S(t),E(t),I(t),R(t),D(t)$ change over time $t$ using a function `odeint` found in the SciPy library. \n",
    "\n",
    "Python libraries contain code to help us solve problems, without needing us to re-create code each time. \n",
    "\n",
    "Odeint is a powerful tool that will help us solve our system of equations. \n",
    "\n",
    "We will provide initial conditions, as well as values for the parameters $\\Delta, \\mu,\\alpha, \\beta, \\epsilon, \\gamma$."
   ]
  },
  {
   "cell_type": "markdown",
   "metadata": {
    "slideshow": {
     "slide_type": "slide"
    }
   },
   "source": [
    "## Solving the system of equations using Python"
   ]
  },
  {
   "cell_type": "code",
   "execution_count": null,
   "metadata": {
    "slideshow": {
     "slide_type": "fragment"
    }
   },
   "outputs": [],
   "source": [
    "# Import libraries\n",
    "from scipy.integrate import odeint\n",
    "import pandas as pd"
   ]
  },
  {
   "cell_type": "code",
   "execution_count": null,
   "metadata": {
    "slideshow": {
     "slide_type": "fragment"
    }
   },
   "outputs": [],
   "source": [
    "# Initial number of infected and recovered individuals, I0 and R0.\n",
    "S0, E0,I0, R0 ,D0 = 37000000,0,100,0,0\n",
    "# Total population, N.\n",
    "N0 = S0 + E0 + I0 + R0\n",
    "# Initial conditions vector\n",
    "y0 = S0,E0, I0, R0, D0"
   ]
  },
  {
   "cell_type": "code",
   "execution_count": null,
   "metadata": {
    "slideshow": {
     "slide_type": "fragment"
    }
   },
   "outputs": [],
   "source": [
    "# Integrate the SEIR equations over the time grid, t.\n",
    "# Solving the equation\n",
    "t = np.linspace(0, 375, 375)\n",
    "Delta = 0 # natural birth rate. Set to zero for simplicity\n",
    "mu = 0 # natural death rate. Set to zero for simplicity\n",
    "alpha = 0.005  # death rate due to disease\n",
    "beta = 0.9 # an interaction parameter. Rate for susceptible to exposed. \n",
    "epsilon = 0.1 # rate from exposed to infectious\n",
    "gamma = 0.5 # rate from infectious to recovered (We expect this to be bigger than mu)"
   ]
  },
  {
   "cell_type": "markdown",
   "metadata": {
    "slideshow": {
     "slide_type": "slide"
    }
   },
   "source": [
    "## Solving the system of equations using Python"
   ]
  },
  {
   "cell_type": "code",
   "execution_count": null,
   "metadata": {
    "slideshow": {
     "slide_type": "fragment"
    }
   },
   "outputs": [],
   "source": [
    "# Solving the equation\n",
    "ret = odeint(deriv, y0, t, args=(Delta, beta, mu, epsilon,gamma,alpha))\n",
    "S, E,I, R,D = ret.T\n",
    "# Store data in a table\n",
    "seir_simulation = pd.DataFrame({\"Susceptible\":S,\n",
    "                                \"Exposed\":E,\n",
    "                                \"Infectious\":I,\n",
    "                                \"Recovered\":R,\n",
    "                                \"Deaths\":D,\n",
    "                                \"Time (days)\":t})\n",
    "seir_simulation"
   ]
  },
  {
   "cell_type": "markdown",
   "metadata": {
    "slideshow": {
     "slide_type": "slide"
    }
   },
   "source": [
    "## Solving the system of equations using Python - let's visualize!"
   ]
  },
  {
   "cell_type": "code",
   "execution_count": null,
   "metadata": {
    "slideshow": {
     "slide_type": "fragment"
    }
   },
   "outputs": [],
   "source": [
    "# Initial number of infected and recovered individuals, I0 and R0.\n",
    "px.line(seir_simulation,\"Time (days)\",'Infectious',title=\"Number of infectious people\")"
   ]
  },
  {
   "cell_type": "markdown",
   "metadata": {
    "slideshow": {
     "slide_type": "skip"
    }
   },
   "source": [
    "## When is there a solution? \n",
    "\n",
    "First it is important to note that solutions that make sense include all those solutions where the rate of change in population is positive (-1 people in the world makes no sense). Mathematically this can be expressed as\n",
    "\n",
    "$$\\frac{dN}{dt} =\\frac{dS}{dt} + \\frac{dE}{dt} + \\frac{dI}{dt} + \\frac{dR}{dt} \\geq 0$$\n",
    "\n",
    "If we substitute each of the equations from our system, this happens when\n",
    "\n",
    "$$N  \\leq \\frac{\\Delta}{\\mu} \\Leftrightarrow S + E + I + R \\leq \\frac{\\Delta}{\\mu} $$\n",
    "\n",
    "In simple terms, the rate of change of the population is positive when there are more births than (natural) deaths. "
   ]
  },
  {
   "cell_type": "markdown",
   "metadata": {
    "slideshow": {
     "slide_type": "slide"
    }
   },
   "source": [
    "## When is there equilibrium? \n",
    "\n",
    "Another way to think about rate of change is in terms of slope. One value that is of interest to mathematicians is the value in which a rate changes from positive to negative. \n",
    "\n",
    "At equlibrium the slope is horizontal. We can find this value using mathematics by setting a derivative equal to zero. \n",
    "\n",
    "We can find the equilibrium for our system by setting\n",
    "\n",
    "$$\\frac{dS}{dt} =\\frac{dE}{dt} =\\frac{dI}{dt} =\\frac{dR}{dt}  = 0 $$\n",
    "\n",
    "Playing some more with the equations indicates that R can be manipulated to be in terms of E or I. So that if the number of infectious (or exposed) is zero, then the number of exposed and recovered is zero too. This makes sense - if no one is infected in our population, then no one can catch the virus. "
   ]
  },
  {
   "cell_type": "code",
   "execution_count": null,
   "metadata": {
    "slideshow": {
     "slide_type": "slide"
    }
   },
   "outputs": [],
   "source": [
    "# Initial number of infected and recovered individuals, I0 and R0.\n",
    "S0, E0,I0, R0 ,D0 = 37000000,0,1,0,0\n",
    "# Total population, N.\n",
    "N = S0 + E0 + I0 + R0\n",
    "# Initial conditions vector\n",
    "y0 = S0,E0, I0, R0, D0\n",
    "# Integrate the SEIR equations over the time grid, t.\n",
    "ret = odeint(deriv, y0, t, args=(Delta, beta, mu, epsilon,gamma,alpha))\n",
    "S, E,I, R,D = ret.T\n",
    "\n",
    "seir_simulation = pd.DataFrame({\"Susceptible\":S,\"Exposed\":E,\"Infectious\":I,\"Recovered\":R,\"Time (days)\":t})\n",
    "px.line(seir_simulation,\"Time (days)\",'Infectious',title=\"Number of infectious people\")"
   ]
  },
  {
   "cell_type": "code",
   "execution_count": null,
   "metadata": {
    "slideshow": {
     "slide_type": "skip"
    }
   },
   "outputs": [],
   "source": [
    "# Initial number of infected and recovered individuals, I0 and R0.\n",
    "S0, E0,I0, R0 ,D0 = 37000000,0,0,0,0\n",
    "# Total population, N.\n",
    "N = S0 + E0 + I0 + R0\n",
    "# Initial conditions vector\n",
    "y0 = S0,E0, I0, R0, D0\n",
    "# Integrate the SEIR equations over the time grid, t.\n",
    "\n",
    "mu = 0.1 # natural death rate. Set to zero for simplicity\n",
    "Delta = mu # natural birth rate. Set to zero for simplicity\n",
    "alpha = 0.005  # death rate due to disease\n",
    "beta = 0.5 # an interaction parameter. Rate for susceptible to exposed. \n",
    "epsilon = 1/3 # rate from exposed to infectious\n",
    "gamma = 1/8 # rate from infectious to recovered (We expect this to be bigger than mu)\n",
    "\n",
    "ret = odeint(deriv, y0, t, args=(Delta, beta, mu, epsilon,gamma,alpha))\n",
    "S, E,I, R ,D= ret.T\n",
    "\n",
    "seir_simulation = pd.DataFrame({\"Susceptible\":S,\"Exposed\":E,\"Infectious\":I,\"Recovered\":R,\"Time (days)\":t})\n",
    "px.line(seir_simulation,\"Time (days)\",'Infectious',title=\"Number of infectious people\")"
   ]
  },
  {
   "cell_type": "markdown",
   "metadata": {
    "slideshow": {
     "slide_type": "slide"
    }
   },
   "source": [
    "## When is there equilibrium?\n",
    "\n",
    "Let's suppose there is at least one infectious person in the population. \n",
    "\n",
    "We can do a bit of algebra to compute a very important number called $R_0$. This number is called \"general (or basic) reproduction number\". This is the number that epidemiologists use to determine the number of new cases a single individual will produce. \n",
    "\n",
    "We can do a bit of math to get this number. I will show you the simulation first, then the math behind it. \n",
    "\n",
    "\n",
    "$$R_0 = \\frac{\\beta \\epsilon}{ (\\epsilon + \\mu) (\\gamma + \\alpha + \\mu)}$$\n",
    "\n",
    "\n",
    "\n",
    "If $R_0 < 1$ - this is disease free.\n",
    "\n",
    "If $R_0 \\geq 1$ - this is called \"endemic\" and indicates there is an outbreak."
   ]
  },
  {
   "cell_type": "code",
   "execution_count": null,
   "metadata": {
    "slideshow": {
     "slide_type": "skip"
    }
   },
   "outputs": [],
   "source": [
    "# Solving the equation\n",
    "t = np.linspace(0, 1750, 750)\n",
    "mu = 0# natural death rate. Set to zero for simplicity\n",
    "Delta = 0 # natural birth rate. Set to zero for simplicity\n",
    "alpha = 0.001  # death rate due to disease\n",
    "beta = 0.1 # an interaction parameter. Rate for susceptible to exposed. \n",
    "epsilon = 0.05 # rate from exposed to infectious\n",
    "gamma = 1/8 # rate from infectious to recovered (We expect this to be bigger than mu)\n",
    "numerator = beta*epsilon\n",
    "denominator = (alpha + gamma + mu)*(epsilon + mu)\n",
    "print(\"R_0 is equal to\", numerator/denominator)  \n",
    "plot_infections(Delta, beta, mu, epsilon,gamma,alpha)"
   ]
  },
  {
   "cell_type": "markdown",
   "metadata": {
    "slideshow": {
     "slide_type": "slide"
    }
   },
   "source": [
    "## Playing with the parameters\n"
   ]
  },
  {
   "cell_type": "code",
   "execution_count": null,
   "metadata": {
    "slideshow": {
     "slide_type": "fragment"
    }
   },
   "outputs": [],
   "source": [
    "def f(beta,eps,gamma,alpha):\n",
    "    numerator = beta*epsilon\n",
    "    denominator = (alpha + gamma + mu)*(epsilon + mu)\n",
    "    print(\"R_0 is equal to\", numerator/denominator)\n",
    "    plot_infections(0, beta, 0, eps, gamma, alpha)"
   ]
  },
  {
   "cell_type": "code",
   "execution_count": null,
   "metadata": {
    "slideshow": {
     "slide_type": "slide"
    }
   },
   "outputs": [],
   "source": [
    "interact_manual(f, \n",
    "         beta=widgets.FloatSlider(min=0, max=1, step=0.01, value=0.5),\n",
    "         eps =widgets.FloatSlider(min=.1, max=1.0, step=.1, value=.1),\n",
    "         gamma=widgets.FloatSlider(min=.1, max=1.0, step=.1, value=.1),\n",
    "         alpha  =widgets.FloatSlider(min=.005, max=1.0, step=.005, value=.005)\n",
    "         );"
   ]
  },
  {
   "cell_type": "markdown",
   "metadata": {
    "slideshow": {
     "slide_type": "slide"
    }
   },
   "source": [
    "## Session II Take Away\n",
    "\n",
    "In this session we learned:\n",
    "\n",
    "1. We can use differential equations, a tool from calculus, to express rate of change for the different stages in our model \n",
    "2. How to go from a flow diagram into a system of differential equations\n",
    "3. How to implement our system of equations and solve it using Python\n",
    "4. The relationship between changing variables $\\Delta, \\delta, \\beta, \\epsilon, \\gamma$ and the number of S,E,I,R cases in our model."
   ]
  },
  {
   "cell_type": "markdown",
   "metadata": {
    "slideshow": {
     "slide_type": "slide"
    }
   },
   "source": [
    "## Q & A\n",
    "\n",
    "We can use the remainder of the time to talk about any aspect of this process you are interested in, as well as ask the speaker and any of the mentors what it is like to work in a field related to data science. \n",
    "\n",
    "### Speaker & Mentors (by last name)\n",
    "\n",
    "- Lisa Cao, She/her\n",
    "- Laura G Funderburk, She/her\n",
    "- Annie Li, She/her\n",
    "- Sophie MacDonald, She/her\n",
    "- Alyaa Mohamed\n",
    "- Rajan Patel, He/him\n",
    "- Alex Tennant, He/him "
   ]
  },
  {
   "cell_type": "markdown",
   "metadata": {
    "slideshow": {
     "slide_type": "slide"
    }
   },
   "source": [
    "## Further reading \n",
    "\n",
    "Infectious Disease Modelling https://towardsdatascience.com/infectious-disease-modelling-beyond-the-basic-sir-model-216369c584c4\n",
    "\n",
    "Model adapted from Carcione José M., Santos Juan E., Bagaini Claudio, Ba Jing, A Simulation of a COVID-19 Epidemic Based on a Deterministic SEIR Model. <b>Frontiers in Public Health</b> Vol 8, 2020 https://www.frontiersin.org/article/10.3389/fpubh.2020.00230   DOI=10.3389/fpubh.2020.00230    \n"
   ]
  },
  {
   "cell_type": "markdown",
   "metadata": {
    "slideshow": {
     "slide_type": "skip"
    }
   },
   "source": [
    "[![Callysto.ca License](https://github.com/callysto/curriculum-notebooks/blob/master/callysto-notebook-banner-bottom.jpg?raw=true)](https://github.com/callysto/curriculum-notebooks/blob/master/LICENSE.md)"
   ]
  }
 ],
 "metadata": {
  "celltoolbar": "Slideshow",
  "kernelspec": {
   "display_name": "Python 3",
   "language": "python",
   "name": "python3"
  },
  "language_info": {
   "codemirror_mode": {
    "name": "ipython",
    "version": 3
   },
   "file_extension": ".py",
   "mimetype": "text/x-python",
   "name": "python",
   "nbconvert_exporter": "python",
   "pygments_lexer": "ipython3",
   "version": "3.8.4"
  },
  "rise": {
   "autolaunch": false,
   "backimage": "Bgnd0.jpg"
  }
 },
 "nbformat": 4,
 "nbformat_minor": 4
}
