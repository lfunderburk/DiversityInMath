{
 "cells": [
  {
   "cell_type": "markdown",
   "metadata": {
    "slideshow": {
     "slide_type": "skip"
    }
   },
   "source": [
    "![Callysto.ca Banner](https://github.com/callysto/curriculum-notebooks/blob/master/callysto-notebook-banner-top.jpg?raw=true)"
   ]
  },
  {
   "cell_type": "markdown",
   "metadata": {
    "slideshow": {
     "slide_type": "skip"
    }
   },
   "source": [
    "## To use this slideshow:\n",
    "- Run All, using the menu item: Kernel/Restart & Run All\n",
    "- Return to this top cell\n",
    "- click on \"Slideshow\" menu item above, that looks like this:\n",
    "![](images/SlideIcon.png)"
   ]
  },
  {
   "cell_type": "markdown",
   "metadata": {
    "slideshow": {
     "slide_type": "slide"
    }
   },
   "source": [
    "## Mathematical Modeling\n",
    "\n",
    "### August 5, 2020 with Laura G Funderburk  "
   ]
  },
  {
   "cell_type": "markdown",
   "metadata": {
    "slideshow": {
     "slide_type": "slide"
    }
   },
   "source": [
    "## Session III\n",
    "\n",
    "In this session, we’ll explore our implementation of the “<b>S</b>usceptible, <b>E</b>xposed, <b>I</b>nfected and <b>R</b>ecovered” (<b>SEIR</b>) model used in epidemiology, the study of how disease occurs in populations. \n"
   ]
  },
  {
   "cell_type": "markdown",
   "metadata": {
    "slideshow": {
     "slide_type": "slide"
    }
   },
   "source": [
    "## Recap: What is a Mathematical Model\n",
    "\n",
    "A mathematical model is a description of a system using <b>mathematical concepts</b> and <b>mathematical language</b>.\n",
    "\n",
    "You can think of a math model as a tool to help us describe what we believe about the workings of phenomena in the world. \n",
    "\n",
    "<b>We use the language of mathematics to express our beliefs.</b>\n",
    "\n",
    "<b>We use mathematics (theoretical and numerical analysis) to evaluate the model, and get insights about the original phenomenon.</b>"
   ]
  },
  {
   "cell_type": "markdown",
   "metadata": {
    "slideshow": {
     "slide_type": "slide"
    }
   },
   "source": [
    "### Building Models: Our Road Map for The Course\n",
    "\n",
    "|Topic | Session |\n",
    "|-|-|\n",
    "|<font color=#000000><b>Choose what phenomenon you want to model|1|</b></font>\n",
    "|<font color=#000000><b>What assumptions are you making about the phenomenon|1|</b></font>   \n",
    "|<font color=#000000><b>Use a flow diagram to help you determine the structure of your model|1|</b></font>\n",
    "|<font color=#000000><b>Choose equations|2|</b></font>\n",
    "|<font color=#000000><b>Implement equations using Python|2|</b></font>\n",
    "|<font color=#000000><b>Solve equations|2|</b></font>\n",
    "|<font color=#1f78b4><b>Study the behaviour of the model|3|</b></font>\n",
    "|<font color=#1f78b4><b>Test the model|3|</b></font>\n",
    "|<font color=#1f78b4><b>Use the model|3|</b></font>\n"
   ]
  },
  {
   "cell_type": "markdown",
   "metadata": {
    "slideshow": {
     "slide_type": "slide"
    }
   },
   "source": [
    "## Recap: Our assumptions\n",
    "\n",
    "1. Mode of transmission of the disease from person to person is through contact (\"contact transmission\") between a person who interacts with an infectious person. \n",
    "    \n",
    "2. Once a person comes into contact with the pathogen, there is a period of time (called the latency period) in which they are infected, but cannot infect others (yet!). \n",
    "\n",
    "3. Population is not-constant (that is, people are born and die as time goes by)."
   ]
  },
  {
   "cell_type": "markdown",
   "metadata": {
    "slideshow": {
     "slide_type": "subslide"
    }
   },
   "source": [
    "## Recap: Our assumptions\n",
    "\n",
    "\n",
    "4. A person in the population is either one of:\n",
    "    - <b>S</b>usceptible, i.e. not infected but not yet exposed, \n",
    "    - <b>E</b>xposed to the infection, i.e. exposed to the virus, but not yet infectious, \n",
    "    - <b>I</b>nfectious, and \n",
    "    - <b>R</b>ecovered from the infection. \n",
    "    \n",
    "5. People can die by \"natural causes\" during any of the stages. We assume an additional cause of death associated with the infectious stage. "
   ]
  },
  {
   "cell_type": "markdown",
   "metadata": {
    "slideshow": {
     "slide_type": "slide"
    }
   },
   "source": [
    "## Recap: Flow diagram\n",
    "\n",
    "How does a person move from one stage into another? In other words, how does a person go from susceptible to exposed, to infected, to recovered? \n",
    "\n",
    "$\\Delta$: Per-capita birth rate.\n",
    "\n",
    "$\\mu$: Per-capita natural death rate.\n",
    "\n",
    "$\\alpha$: Virus-induced average fatality rate.\n",
    "\n",
    "$\\beta$: Probability of disease transmission per contact (dimensionless) times the number of contacts per unit time.\n",
    "\n",
    "$\\epsilon$: Rate of progression from exposed to infectious (the reciprocal is the incubation period).\n",
    "\n",
    "$\\gamma$: Recovery rate of infectious individuals (the reciprocal is the infectious period).\n"
   ]
  },
  {
   "cell_type": "markdown",
   "metadata": {
    "slideshow": {
     "slide_type": "subslide"
    }
   },
   "source": [
    "## Recap: Flow diagram\n",
    "\n",
    "$$\\stackrel{\\Delta N} {\\longrightarrow} \\text{S} \\stackrel{\\beta\\frac{S}{N} I}{\\longrightarrow} \\text{E} \\stackrel{\\epsilon}{\\longrightarrow} \\text{I}  \\stackrel{\\gamma}{\\longrightarrow} \\text{R}$$\n",
    "$$\\hspace{1.1cm} \\downarrow \\mu \\hspace{0.6cm} \\downarrow \\mu  \\hspace{0.5cm} \\downarrow \\mu, \\alpha  \\hspace{0.1cm} \\downarrow \\mu $$"
   ]
  },
  {
   "cell_type": "markdown",
   "metadata": {
    "slideshow": {
     "slide_type": "slide"
    }
   },
   "source": [
    "## Our system of equations\n",
    "\n",
    "$N$ is updated at each time step, and infected peopel die at a higher rate. \n",
    "\n",
    "$$ N = S + E + I + R$$\n",
    "\n",
    "We can then express our model using differential equations\n",
    "\n",
    "$$\\frac{dS}{dt} = \\Delta N - \\beta \\frac{S}{N}I - \\mu S$$\n",
    "\n",
    "$$\\frac{dE}{dt} = \\beta \\frac{S}{N}I - (\\mu + \\epsilon )E$$\n",
    "\n",
    "$$\\frac{dI}{dt} = \\epsilon E - (\\gamma+ \\mu + \\alpha )I$$\n",
    "\n",
    "$$\\frac{dR}{dt} = \\gamma I - \\mu R$$\n",
    "\n"
   ]
  },
  {
   "cell_type": "markdown",
   "metadata": {
    "slideshow": {
     "slide_type": "subslide"
    }
   },
   "source": [
    "## Our system of equations\n",
    "\n",
    "\n",
    "Also, we can keep track of the dead people, dead due to the infection. \n",
    "\n",
    "$$\\frac{dD}{dt} = \\alpha I $$"
   ]
  },
  {
   "cell_type": "markdown",
   "metadata": {
    "slideshow": {
     "slide_type": "slide"
    }
   },
   "source": [
    "## Initial conditions\n",
    "\n",
    "If $N(t)$ denotes the total population, then at a given time $t$,\n",
    "\n",
    "$$N(t) = S(t) + E(t) + I(t) + R(t).$$\n",
    "\n",
    "In particular, if for $t = 0$ (also known as \"day 0\") we set  \n",
    "\n",
    "$$S(0) = S_0, E(0) = E_0, I(0) = I_0, R(0) = R_0, $$\n",
    "\n",
    "then the population at day 0 is:\n",
    "\n",
    "$$N(0) = S_0 + E_0 + I_0 + R_0.$$\n",
    "\n",
    "$S_0, E_0, I_0, R_0$ are known as \"initial conditions\" - we will need them to solve our system."
   ]
  },
  {
   "cell_type": "code",
   "execution_count": null,
   "metadata": {
    "slideshow": {
     "slide_type": "skip"
    }
   },
   "outputs": [],
   "source": [
    "import numpy as np\n",
    "from scipy.integrate import odeint\n",
    "import matplotlib.pyplot as plt\n",
    "from ipywidgets import interact, interact_manual, widgets, Layout, VBox, HBox, Button\n",
    "from IPython.display import display, Javascript, Markdown, HTML, clear_output\n",
    "import pandas as pd\n",
    "import plotly.express as px \n",
    "import plotly.graph_objects as go\n",
    "\n",
    "# A grid of time points (in days)\n",
    "t = np.linspace(0, 750, 750)\n",
    "\n",
    "\n",
    "# The SEIR model differential equations.\n",
    "def deriv(y, t, Delta, beta, mu, epsilon,gamma,alpha):\n",
    "    S, E, I, R, D = y\n",
    "    N = S + E + I + R\n",
    "    dS = Delta*N  - beta*S*I/N - mu*S\n",
    "    dE = beta*S*I/N - (mu + epsilon)*E\n",
    "    dI = epsilon*E - (gamma + mu + alpha)*I\n",
    "    dR = gamma*I - mu*R\n",
    "    dD = alpha*I \n",
    "    \n",
    "    return [dS,dE, dI, dR, dD]\n",
    "\n",
    "\n",
    "def plot_infections(Delta, beta, mu, epsilon,gamma,alpha):\n",
    "    \n",
    "    # Initial number of infected and recovered individuals, I0 and R0.\n",
    "    S0, E0,I0, R0 ,D0 = 37000000,0,100,0,0\n",
    "    # Total population, N.\n",
    "    N = S0 + E0 + I0 + R0\n",
    "    # Initial conditions vector\n",
    "    y0 = S0,E0, I0, R0, D0\n",
    "    # Integrate the SIR equations over the time grid, t.\n",
    "    ret = odeint(deriv, y0, t, args=(Delta, beta, mu, epsilon,gamma,alpha))\n",
    "    S, E,I, R, D = ret.T\n",
    "    \n",
    "    S,E,I,R,D = np.ceil(S),np.ceil(E),np.ceil(I),np.ceil(R),np.ceil(D)\n",
    "\n",
    "    seir_simulation = pd.DataFrame({\"Susceptible\":S,\"Exposed\":E,\"Infected\":I,\"Recovered\":R,\"Deaths\":D, \"Time (days)\":t})\n",
    "\n",
    "    layout = dict( xaxis=dict(title='Time (days)', linecolor='#d9d9d9', mirror=True),\n",
    "              yaxis=dict(title='Number of people', linecolor='#d9d9d9', mirror=True))\n",
    "    \n",
    "    fig = go.Figure(layout=layout)\n",
    "    \n",
    "#    fig.add_trace(go.Scatter(x=seir_simulation[\"Time (days)\"], y=seir_simulation[\"Susceptible\"],\n",
    "#                        mode='lines',\n",
    "#                        name='Susceptible'))\n",
    "    \n",
    "    fig.add_trace(go.Scatter(x=seir_simulation[\"Time (days)\"], y=seir_simulation[\"Exposed\"],\n",
    "                        mode='lines',\n",
    "                        name='Exposed'))\n",
    "    \n",
    "    fig.add_trace(go.Scatter(x=seir_simulation[\"Time (days)\"], y=seir_simulation[\"Infected\"],\n",
    "                    mode='lines',\n",
    "                    name='Infected'))\n",
    "    \n",
    "    fig.add_trace(go.Scatter(x=seir_simulation[\"Time (days)\"], y=seir_simulation[\"Recovered\"],\n",
    "                        mode='lines', name='Recovered'))\n",
    "\n",
    "    fig.add_trace(go.Scatter(x=seir_simulation[\"Time (days)\"], y=seir_simulation[\"Deaths\"],\n",
    "                        mode='lines', name='Deaths'))\n",
    "\n",
    "    fig.update_layout(title_text=\"Projected Susceptible, Exposed, Infectious, Recovered, Deaths\")\n",
    "\n",
    "    fig.show();\n"
   ]
  },
  {
   "cell_type": "code",
   "execution_count": null,
   "metadata": {
    "slideshow": {
     "slide_type": "slide"
    }
   },
   "outputs": [],
   "source": [
    "# Our code\n",
    "# A grid of time points (in days)\n",
    "t = np.linspace(0, 750, 750)\n",
    "\n",
    "# The SEIR model differential equations.\n",
    "def deriv(y, t, Delta, beta, mu, epsilon,gamma,alpha):\n",
    "    S, E, I, R, D = y\n",
    "    N = S + E + I + R\n",
    "    dS = Delta*N  - beta*S*I/N - mu*S\n",
    "    dE = beta*S*I/N - (mu + epsilon)*E\n",
    "    dI = epsilon*E - (gamma + mu + alpha)*I\n",
    "    dR = gamma*I - mu*R\n",
    "    dD = alpha*I \n",
    "    \n",
    "    return [dS,dE, dI, dR, dD]\n"
   ]
  },
  {
   "cell_type": "markdown",
   "metadata": {
    "slideshow": {
     "slide_type": "slide"
    }
   },
   "source": [
    "## When is there equilibrium?\n",
    "\n",
    "Let's suppose there is at least one infectious person in the population. \n",
    "\n",
    "We can do a bit of algebra to compute a very important number called $R_0$. This number is called \"general (or basic) reproduction number\". This is the number that epidemiologists use to determine the number of new cases a single individual will produce. \n",
    "\n",
    "We can do a bit of math to get this number. I will show you the simulation first, then the math behind it. \n",
    "\n",
    "For now, believe me. \n",
    "\n",
    "$$R_0 = \\frac{\\Delta \\beta \\epsilon}{\\delta (\\delta + \\gamma) (\\delta + \\epsilon)}$$\n",
    "\n",
    "If $R_0 < 1$ - this is disease free.\n",
    "\n",
    "If $R_0 \\geq 1$ - this is called \"endemic\" and indicates there is an outbreak."
   ]
  },
  {
   "cell_type": "code",
   "execution_count": null,
   "metadata": {
    "slideshow": {
     "slide_type": "skip"
    }
   },
   "outputs": [],
   "source": [
    "# Solving the equation\n",
    "t = np.linspace(0, 375, 375)\n",
    "\n",
    "Delta = 0 # natural birth rate. Set to zero for simplicity\n",
    "mu = 0 # natural death rate. Set to zero for simplicity\n",
    "alpha = 0.005  # death rate due to disease\n",
    "beta = 0.9 # an interaction parameter. Rate for susceptible to exposed. \n",
    "epsilon = 0.1 # rate from exposed to infectious\n",
    "gamma = 0.5 # rate from infectious to recovered (We expect this to be bigger than mu)\n",
    "numerator = beta*epsilon\n",
    "denominator = (alpha + gamma + mu)*(epsilon + mu)\n",
    "print(\"R_0 is equal to\", numerator/denominator)  \n",
    "plot_infections(Delta, beta, mu, epsilon,gamma,alpha)"
   ]
  },
  {
   "cell_type": "markdown",
   "metadata": {
    "slideshow": {
     "slide_type": "slide"
    }
   },
   "source": [
    "## Playing with the parameters"
   ]
  },
  {
   "cell_type": "code",
   "execution_count": null,
   "metadata": {
    "slideshow": {
     "slide_type": "fragment"
    }
   },
   "outputs": [],
   "source": [
    "def f(beta,eps,gamma,alpha):\n",
    "    numerator = beta*eps\n",
    "    denominator = (alpha + gamma + mu)*(eps + mu)\n",
    "    print(\"R_0 is equal to\", numerator/denominator)\n",
    "    plot_infections(0, beta, 0, eps, gamma, alpha)"
   ]
  },
  {
   "cell_type": "code",
   "execution_count": null,
   "metadata": {
    "slideshow": {
     "slide_type": "slide"
    }
   },
   "outputs": [],
   "source": [
    "interact_manual(f, \n",
    "         beta=widgets.FloatSlider(min=0, max=1, step=0.01, value=0.5),\n",
    "         eps =widgets.FloatSlider(min=.1, max=1.0, step=.1, value=.1),\n",
    "         gamma=widgets.FloatSlider(min=.1, max=1.0, step=.1, value=.1),\n",
    "         alpha  =widgets.FloatSlider(min=.005, max=1.0, step=.005, value=.005)\n",
    "         );"
   ]
  },
  {
   "cell_type": "markdown",
   "metadata": {
    "slideshow": {
     "slide_type": "slide"
    }
   },
   "source": [
    "## Let's get some real data\n",
    "\n",
    "Using COVID-19 Open Data [1], we are going to compare our model to the number of daily cases reported in Canada. \n",
    "\n",
    "[1] COVID-19 Data Repository by the Center for Systems Science and Engineering (CSSE) at Johns Hopkins University, https://github.com/CSSEGISandData/COVID-19"
   ]
  },
  {
   "cell_type": "code",
   "execution_count": null,
   "metadata": {
    "slideshow": {
     "slide_type": "skip"
    }
   },
   "outputs": [],
   "source": [
    "import requests as r\n",
    "import pandas as pd\n",
    "API_response_confirmed = r.get(\"https://covid19api.herokuapp.com/confirmed\")\n",
    "data = API_response_confirmed.json() # Check the JSON Response Content documentation below\n",
    "confirmed_df = pd.json_normalize(data,record_path=[\"locations\"])\n",
    "\n",
    "# Flattening the data \n",
    "flat_confirmed = pd.json_normalize(data=data['locations'])\n",
    "flat_confirmed.set_index('country', inplace=True)\n",
    "\n",
    "# Define a function to drop the history.prefix\n",
    "# Create function drop_prefix\n",
    "def drop_prefix(self, prefix):\n",
    "    self.columns = self.columns.str.lstrip(prefix)\n",
    "    return self\n",
    "\n",
    "# Call function\n",
    "pd.core.frame.DataFrame.drop_prefix = drop_prefix\n",
    "\n",
    "# Define function which removes history. prefix, and orders the column dates in ascending order\n",
    "def order_dates(flat_df):\n",
    "\n",
    "    # Drop prefix\n",
    "    flat_df.drop_prefix('history.')\n",
    "    flat_df.drop_prefix(\"coordinates.\")\n",
    "    # Isolate dates columns\n",
    "    flat_df.iloc[:,6:].columns = pd.to_datetime(flat_df.iloc[:,6:].columns)\n",
    "    # Transform to datetim format\n",
    "    sub = flat_df.iloc[:,6:]\n",
    "    sub.columns = pd.to_datetime(sub.columns)\n",
    "    # Sort\n",
    "    sub2 = sub.reindex(sorted(sub.columns), axis=1)\n",
    "    sub3 = flat_df.reindex(sorted(flat_df.columns),axis=1).iloc[:,-5:]\n",
    "    # Concatenate\n",
    "    final = pd.concat([sub2,sub3], axis=1, sort=False)\n",
    "    return final"
   ]
  },
  {
   "cell_type": "code",
   "execution_count": null,
   "metadata": {
    "slideshow": {
     "slide_type": "skip"
    }
   },
   "outputs": [],
   "source": [
    "# Apply function\n",
    "final_confirmed = order_dates(flat_confirmed)\n",
    "\n",
    "country = \"Canada\"\n",
    "by_prov = final_confirmed[final_confirmed.index==country].set_index(\"province\").T.iloc[:-4,]\n",
    "by_prov[\"TotalDailyCase\"] = by_prov.sum(axis=1)\n",
    "\n",
    "non_cumulative_cases = by_prov.diff(axis=0)"
   ]
  },
  {
   "cell_type": "code",
   "execution_count": null,
   "metadata": {
    "slideshow": {
     "slide_type": "slide"
    }
   },
   "outputs": [],
   "source": [
    "# This variable contains data on COVID 19 daily cases\n",
    "non_cumulative_cases"
   ]
  },
  {
   "cell_type": "markdown",
   "metadata": {
    "slideshow": {
     "slide_type": "slide"
    }
   },
   "source": [
    "## Fitting our model into the real data\n",
    "\n",
    "We will begin by attempting a first guess - you can tinker with the values to get something close to the real data. "
   ]
  },
  {
   "cell_type": "code",
   "execution_count": null,
   "metadata": {
    "slideshow": {
     "slide_type": "slide"
    }
   },
   "outputs": [],
   "source": [
    "# Initial number of infected and recovered individuals, I0 and R0.\n",
    "S0, E0,I0, R0,D0 = 37000000,0,1,0,0\n",
    "# Total population, N.\n",
    "N = S0 + E0 + I0 + R0\n",
    "# Initial conditions vector\n",
    "y0 = [S0,E0, I0, R0,D0]\n",
    "t = np.linspace(0, len(non_cumulative_cases[\"TotalDailyCase\"]), len(non_cumulative_cases[\"TotalDailyCase\"]))\n",
    "\n",
    "# Integrate the SEIR equations over the time grid, t.\n",
    "Delta = 0.01# natural birth rate. Set to zero for simplicity\n",
    "mu = 0.06 # natural death rate. Set to zero for simplicity\n",
    "alpha = 0.009  # death rate due to disease\n",
    "beta = 0.7# an interaction parameter. Rate for susceptible to exposed. \n",
    "epsilon = 0.23# rate from exposed to infectious\n",
    "gamma = 0.15 # rate from infectious to recovered (We expect this to be bigger than mu)\n",
    "numerator = beta*epsilon\n",
    "denominator = (alpha + gamma + mu)*(epsilon + mu)\n",
    "print(\"R_0 is equal to\", numerator/denominator)  \n",
    "ret = odeint(deriv, y0, t, args=(Delta, beta, mu, epsilon,gamma,alpha))\n",
    "S, E,I, R ,D= ret.T\n",
    "S,E,I,R,D = np.ceil(S),np.ceil(E),np.ceil(I),np.ceil(R),np.ceil(D)\n",
    "\n",
    "# Let's add a date\n",
    "seir_simulation = pd.DataFrame({\"Susceptible\":S,\"Exposed\":E,\"Infectious\":I,\"Recovered\":R,\"Time (days)\":t})\n",
    "seir_simulation['date'] = pd.date_range(start='01/24/2020', periods=len(seir_simulation), freq='D')"
   ]
  },
  {
   "cell_type": "code",
   "execution_count": null,
   "metadata": {
    "slideshow": {
     "slide_type": "slide"
    }
   },
   "outputs": [],
   "source": [
    "non_cumulative_cases = by_prov.diff(axis=0)\n",
    "\n",
    "trace3 = go.Scatter(x = non_cumulative_cases.index,y=non_cumulative_cases[\"TotalDailyCase\"])\n",
    "trace2 = go.Scatter(x = seir_simulation[\"date\"],y=seir_simulation[\"Infectious\"],yaxis='y2')\n",
    "layout = go.Layout(\n",
    "    title= ('First guess to fit model: infectious against number of reported cases in ' + str(country)),\n",
    "    yaxis=dict(title='Daily Number of  Reported Infections',\\\n",
    "               titlefont=dict(color='blue'), tickfont=dict(color='blue')),\n",
    "        yaxis2=dict(title='Number of infectious members (our model)', titlefont=dict(color='red'), \\\n",
    "                    tickfont=dict(color='red'), overlaying='y', side='right'),\n",
    "        showlegend=False)\n",
    "fig = go.Figure(data=[trace3,trace2],layout=layout)\n",
    "\n",
    "fig.show()"
   ]
  },
  {
   "cell_type": "code",
   "execution_count": null,
   "metadata": {
    "slideshow": {
     "slide_type": "notes"
    }
   },
   "outputs": [],
   "source": [
    "# The SEIR model differential equations.\n",
    "def deriv(y, t, Delta, beta, mu, epsilon,gamma,alpha):\n",
    "    S, E, I, R, D = y\n",
    "    N = S + E + I + R\n",
    "    dS = Delta*N  - beta*S*I/N - mu*S\n",
    "    dE = beta*S*I/N - (mu + epsilon)*E\n",
    "    dI = epsilon*E - (gamma + mu + alpha)*I\n",
    "    dR = gamma*I - mu*R\n",
    "    dD = alpha*I \n",
    "    \n",
    "    return [dS,dE, dI, dR, dD]"
   ]
  },
  {
   "cell_type": "code",
   "execution_count": null,
   "metadata": {
    "scrolled": true
   },
   "outputs": [],
   "source": [
    "#!conda install -y -c conda-forge symfit"
   ]
  },
  {
   "cell_type": "code",
   "execution_count": null,
   "metadata": {
    "scrolled": false
   },
   "outputs": [],
   "source": [
    "from symfit import variables, Parameter, ODEModel, Fit, D\n",
    "\n",
    "import numpy as np\n",
    "\n",
    "tdata = [i for i in range(1,len(seir_simulation[\"date\"]))]\n",
    "adata = [seir_simulation[\"Infectious\"].to_list()[i] for i in range(1,len(seir_simulation[\"Infectious\"].to_list()))]\n",
    "\n",
    "# tdata = [i for i in range(1,len(non_cumulative_cases.index))]\n",
    "# adata = [non_cumulative_cases[\"TotalDailyCase\"].to_list()[i] for i in range(1,len(non_cumulative_cases[\"TotalDailyCase\"].to_list()))]\n",
    "\n",
    "\n",
    "s,e,i,r, d,t = variables('S,E,I,R,D,t')\n",
    "Delta = Parameter('Delta', 0.01/N)\n",
    "mu = Parameter(\"mu\",0.06)\n",
    "beta = Parameter(\"beta\",0.7)\n",
    "epsilon = Parameter(\"epsilon\",0.23)\n",
    "gamma  = Parameter(\"gamma\",0.15)\n",
    "alpha  = Parameter(\"alpha\",0.009)\n",
    "\n",
    "model_dict = {\n",
    "    D(s, t): Delta*N  - beta*s*i/N - mu*s,\n",
    "    D(e, t): beta*s*i/N - (mu + epsilon)*e,\n",
    "    D(i,t): epsilon*e - (gamma + mu + alpha)*i,\n",
    "    D(r,t): gamma*i - mu*r,\n",
    "    D(d,t): alpha*i\n",
    "}\n",
    "\n",
    "ode_model = ODEModel(model_dict, initial={t: 0.0, s:S0, e:E0, i:I0, r:R0,d:D0})\n",
    "\n",
    "fit = Fit(ode_model, t=tdata, S=None,E=None,I=adata,R=None,D=None)\n",
    "fit_result = fit.execute()\n",
    "\n",
    "print(ode_model)\n",
    "print(fit_result)\n",
    "\n",
    "tvec = np.linspace(0, 190,190)\n",
    "plt.figure(figsize=(10,10))\n",
    "SEIRD = ode_model(t=tvec, **fit_result.params)\n",
    "plt.plot(tvec, I, label='[Infectious]')\n",
    "#plt.plot(tvec, E, label='[E]')\n",
    "plt.scatter(tdata, adata)\n",
    "plt.legend()\n",
    "plt.grid(True)\n",
    "plt.show()"
   ]
  },
  {
   "cell_type": "code",
   "execution_count": null,
   "metadata": {},
   "outputs": [],
   "source": [
    "from symfit import variables, Parameter, ODEModel, Fit, D\n",
    "\n",
    "import numpy as np\n",
    "\n",
    "tdata = [i for i in range(1,len(seir_simulation[\"date\"]))]\n",
    "adata = [seir_simulation[\"Infectious\"].to_list()[i] +0.0001 for i in range(1,len(seir_simulation[\"Infectious\"].to_list()))]\n",
    "\n",
    "# tdata = [i for i in range(1,len(non_cumulative_cases.index))]\n",
    "# adata = [non_cumulative_cases[\"TotalDailyCase\"].to_list()[i] for i in range(1,len(non_cumulative_cases[\"TotalDailyCase\"].to_list()))]\n",
    "\n",
    "\n",
    "s,e,i,r, d,t = variables('S,E,I,R,D,t')\n",
    "Delta = Parameter('Delta', 0.01)\n",
    "mu = Parameter(\"mu\",0.06)\n",
    "beta = Parameter(\"beta\",0.7)\n",
    "epsilon = Parameter(\"epsilon\",0.23)\n",
    "gamma  = Parameter(\"gamma\",0.15)\n",
    "alpha  = Parameter(\"alpha\",0.009)\n",
    "\n",
    "model_dict = {\n",
    "    D(s, t): Delta*N  - beta*s*i/N - mu*s,\n",
    "    D(e, t): beta*s*i/N - (mu + epsilon)*e,\n",
    "    D(i,t): epsilon*e - (gamma + mu + alpha)*i,\n",
    "    D(r,t): gamma*i - mu*r,\n",
    "    D(d,t): alpha*i\n",
    "}\n",
    "\n",
    "ode_model = ODEModel(model_dict, initial={t: 0.0, s:S0, e:E0, i:I0, r:R0,d:D0})\n",
    "\n",
    "fit = Fit(ode_model, t=tdata, S=None,E=None,I=adata,R=None,D=None)\n",
    "fit_result = fit.execute()\n",
    "\n",
    "print(ode_model)\n",
    "print(fit_result)\n",
    "\n",
    "tvec = np.linspace(0, 190,190)\n",
    "plt.figure(figsize=(10,10))\n",
    "SEIRD = ode_model(t=tvec, **fit_result.params)\n",
    "plt.plot(tvec, I, label='[Infectious]')\n",
    "#plt.plot(tvec, E, label='[E]')\n",
    "plt.scatter(tdata, adata)\n",
    "plt.legend()\n",
    "plt.grid(True)\n",
    "plt.show()"
   ]
  },
  {
   "cell_type": "code",
   "execution_count": null,
   "metadata": {},
   "outputs": [],
   "source": [
    "tdata = [i for i in range(1,len(non_cumulative_cases.index))]\n",
    "adata = [non_cumulative_cases[\"TotalDailyCase\"].to_list()[i] for i in range(1,len(non_cumulative_cases[\"TotalDailyCase\"].to_list()))]\n",
    "\n",
    "\n",
    "\n",
    "N= 30000\n",
    "s,e,i,r, d,t = variables('S,E,I,R,D,t')\n",
    "Delta = Parameter('Delta', value=0.01, min=0.01, max=1.0)\n",
    "mu = Parameter(\"mu\",value=0.06,min=0.01, max=1.0)\n",
    "beta = Parameter(\"beta\",value=0.7,min=0.01, max=1.0)\n",
    "epsilon = Parameter(\"epsilon\",value=0.23,min=0.01, max=1.0)\n",
    "gamma  = Parameter(\"gamma\",value=0.15,min=0.01, max=1.0)\n",
    "alpha  = Parameter(\"alpha\",value=0.009,min=0.01, max=1.0)\n",
    "\n",
    "model_dict = {\n",
    "    D(s, t): Delta  - beta*s*i - mu*s,\n",
    "    D(e, t): beta*s*i - (mu + epsilon)*e,\n",
    "    D(i,t): epsilon*e - (gamma + mu + alpha)*i,\n",
    "    D(r,t): gamma*i - mu*r,\n",
    "    D(d,t): alpha*i\n",
    "}\n",
    "\n",
    "ode_model = ODEModel(model_dict, initial={t: 0.0, s:30000, e:E0, i:I0, r:R0,d:D0})\n",
    "\n",
    "fit = Fit(ode_model, t=tdata, S=None,E=None,I=adata,R=None,D=None)\n",
    "fit_result = fit.execute()\n",
    "\n",
    "print(ode_model)\n",
    "print(fit_result)\n",
    "\n",
    "tvec = np.linspace(0, 190,190)\n",
    "plt.figure(figsize=(10,10))\n",
    "SEIRD = ode_model(t=tvec, **fit_result.params)\n",
    "plt.plot(tvec, I, label='[Infectious]')\n",
    "#plt.plot(tvec, E, label='[E]')\n",
    "plt.scatter(tdata, adata)\n",
    "plt.legend()\n",
    "plt.grid(True)\n",
    "plt.show()"
   ]
  },
  {
   "cell_type": "markdown",
   "metadata": {
    "slideshow": {
     "slide_type": "slide"
    }
   },
   "source": [
    "## Session III Take Away\n",
    "\n",
    "In this session we learned that:\n",
    "\n",
    "1. "
   ]
  },
  {
   "cell_type": "markdown",
   "metadata": {
    "slideshow": {
     "slide_type": "skip"
    }
   },
   "source": [
    "## Further reading \n",
    "\n",
    "https://people.maths.bris.ac.uk/~madjl/course_text.pdf\n",
    "\n",
    "Infectious Disease Modelling https://towardsdatascience.com/infectious-disease-modelling-beyond-the-basic-sir-model-216369c584c4\n",
    "\n",
    "Model adapted from Carcione José M., Santos Juan E., Bagaini Claudio, Ba Jing, A Simulation of a COVID-19 Epidemic Based on a Deterministic SEIR Model. <b>Frontiers in Public Health</b> Vol 8, 2020 https://www.frontiersin.org/article/10.3389/fpubh.2020.00230   DOI=10.3389/fpubh.2020.00230 "
   ]
  },
  {
   "cell_type": "markdown",
   "metadata": {
    "slideshow": {
     "slide_type": "skip"
    }
   },
   "source": [
    "[![Callysto.ca License](https://github.com/callysto/curriculum-notebooks/blob/master/callysto-notebook-banner-bottom.jpg?raw=true)](https://github.com/callysto/curriculum-notebooks/blob/master/LICENSE.md)"
   ]
  }
 ],
 "metadata": {
  "celltoolbar": "Slideshow",
  "kernelspec": {
   "display_name": "Python 3",
   "language": "python",
   "name": "python3"
  },
  "language_info": {
   "codemirror_mode": {
    "name": "ipython",
    "version": 3
   },
   "file_extension": ".py",
   "mimetype": "text/x-python",
   "name": "python",
   "nbconvert_exporter": "python",
   "pygments_lexer": "ipython3",
   "version": "3.8.4"
  },
  "rise": {
   "autolaunch": false,
   "backimage": "Bgnd0.jpg"
  }
 },
 "nbformat": 4,
 "nbformat_minor": 4
}
